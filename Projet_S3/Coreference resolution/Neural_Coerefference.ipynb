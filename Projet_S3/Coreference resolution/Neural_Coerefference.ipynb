{
 "cells": [
  {
   "cell_type": "code",
   "execution_count": 33,
   "id": "d7daa614",
   "metadata": {},
   "outputs": [],
   "source": [
    "import spacy\n",
    "nlp =spacy.load('en_core_web_sm')\n",
    "import neuralcoref\n",
    "import pandas as pd\n",
    "import en_ner_bc5cdr_md"
   ]
  },
  {
   "cell_type": "code",
   "execution_count": 34,
   "id": "45dadd74",
   "metadata": {},
   "outputs": [
    {
     "data": {
      "text/plain": [
       "<spacy.lang.en.English at 0x22d00ad0e20>"
      ]
     },
     "execution_count": 34,
     "metadata": {},
     "output_type": "execute_result"
    }
   ],
   "source": [
    "neuralcoref.add_to_pipe(nlp)"
   ]
  },
  {
   "cell_type": "code",
   "execution_count": 36,
   "id": "294ae1a0",
   "metadata": {},
   "outputs": [
    {
     "data": {
      "text/html": [
       "<div>\n",
       "<style scoped>\n",
       "    .dataframe tbody tr th:only-of-type {\n",
       "        vertical-align: middle;\n",
       "    }\n",
       "\n",
       "    .dataframe tbody tr th {\n",
       "        vertical-align: top;\n",
       "    }\n",
       "\n",
       "    .dataframe thead th {\n",
       "        text-align: right;\n",
       "    }\n",
       "</style>\n",
       "<table border=\"1\" class=\"dataframe\">\n",
       "  <thead>\n",
       "    <tr style=\"text-align: right;\">\n",
       "      <th></th>\n",
       "      <th>Context</th>\n",
       "      <th>Question</th>\n",
       "      <th>Answer</th>\n",
       "    </tr>\n",
       "  </thead>\n",
       "  <tbody>\n",
       "    <tr>\n",
       "      <th>0</th>\n",
       "      <td>['Programmed cell death (PCD) is the regulated...</td>\n",
       "      <td>Do mitochondria play a role in remodelling lac...</td>\n",
       "      <td>Results depicted mitochondrial dynamics in viv...</td>\n",
       "    </tr>\n",
       "    <tr>\n",
       "      <th>1</th>\n",
       "      <td>['Assessment of visual acuity depends on the o...</td>\n",
       "      <td>Landolt C and snellen e acuity: differences in...</td>\n",
       "      <td>Using the charts described, there was only a s...</td>\n",
       "    </tr>\n",
       "    <tr>\n",
       "      <th>2</th>\n",
       "      <td>['Apparent life-threatening events in infants ...</td>\n",
       "      <td>Syncope during bathing in infants, a pediatric...</td>\n",
       "      <td>\"Aquagenic maladies\" could be a pediatric form...</td>\n",
       "    </tr>\n",
       "    <tr>\n",
       "      <th>3</th>\n",
       "      <td>['The transanal endorectal pull-through (TERPT...</td>\n",
       "      <td>Are the long-term results of the transanal pul...</td>\n",
       "      <td>Our long-term study showed significantly bette...</td>\n",
       "    </tr>\n",
       "    <tr>\n",
       "      <th>4</th>\n",
       "      <td>['Telephone counseling and tailored print comm...</td>\n",
       "      <td>Can tailored interventions increase mammograph...</td>\n",
       "      <td>The effects of the intervention were most pron...</td>\n",
       "    </tr>\n",
       "    <tr>\n",
       "      <th>...</th>\n",
       "      <td>...</td>\n",
       "      <td>...</td>\n",
       "      <td>...</td>\n",
       "    </tr>\n",
       "    <tr>\n",
       "      <th>995</th>\n",
       "      <td>['After 34 weeks gestation, summary measures o...</td>\n",
       "      <td>Does gestational age misclassification explain...</td>\n",
       "      <td>Gestational age misclassification is an unlike...</td>\n",
       "    </tr>\n",
       "    <tr>\n",
       "      <th>996</th>\n",
       "      <td>['To evaluate the accuracy of ultrasonographic...</td>\n",
       "      <td>Is there any interest to perform ultrasonograp...</td>\n",
       "      <td>Sonography has no place in the diagnosis of un...</td>\n",
       "    </tr>\n",
       "    <tr>\n",
       "      <th>997</th>\n",
       "      <td>['We analyzed the pharmacokinetic-pharmacodyna...</td>\n",
       "      <td>Is peak concentration needed in therapeutic dr...</td>\n",
       "      <td>These results suggest little need to use peak ...</td>\n",
       "    </tr>\n",
       "    <tr>\n",
       "      <th>998</th>\n",
       "      <td>['This investigation assesses the effect of pl...</td>\n",
       "      <td>Can autologous platelet-rich plasma gel enhanc...</td>\n",
       "      <td>The PRP group recorded reduced pain, swelling,...</td>\n",
       "    </tr>\n",
       "    <tr>\n",
       "      <th>999</th>\n",
       "      <td>['The reduced use of sugars-containing (SC) li...</td>\n",
       "      <td>Are sugars-free medicines more erosive than su...</td>\n",
       "      <td>Paediatric SF medicines were not more erosive ...</td>\n",
       "    </tr>\n",
       "  </tbody>\n",
       "</table>\n",
       "<p>1000 rows × 3 columns</p>\n",
       "</div>"
      ],
      "text/plain": [
       "                                               Context  \\\n",
       "0    ['Programmed cell death (PCD) is the regulated...   \n",
       "1    ['Assessment of visual acuity depends on the o...   \n",
       "2    ['Apparent life-threatening events in infants ...   \n",
       "3    ['The transanal endorectal pull-through (TERPT...   \n",
       "4    ['Telephone counseling and tailored print comm...   \n",
       "..                                                 ...   \n",
       "995  ['After 34 weeks gestation, summary measures o...   \n",
       "996  ['To evaluate the accuracy of ultrasonographic...   \n",
       "997  ['We analyzed the pharmacokinetic-pharmacodyna...   \n",
       "998  ['This investigation assesses the effect of pl...   \n",
       "999  ['The reduced use of sugars-containing (SC) li...   \n",
       "\n",
       "                                              Question  \\\n",
       "0    Do mitochondria play a role in remodelling lac...   \n",
       "1    Landolt C and snellen e acuity: differences in...   \n",
       "2    Syncope during bathing in infants, a pediatric...   \n",
       "3    Are the long-term results of the transanal pul...   \n",
       "4    Can tailored interventions increase mammograph...   \n",
       "..                                                 ...   \n",
       "995  Does gestational age misclassification explain...   \n",
       "996  Is there any interest to perform ultrasonograp...   \n",
       "997  Is peak concentration needed in therapeutic dr...   \n",
       "998  Can autologous platelet-rich plasma gel enhanc...   \n",
       "999  Are sugars-free medicines more erosive than su...   \n",
       "\n",
       "                                                Answer  \n",
       "0    Results depicted mitochondrial dynamics in viv...  \n",
       "1    Using the charts described, there was only a s...  \n",
       "2    \"Aquagenic maladies\" could be a pediatric form...  \n",
       "3    Our long-term study showed significantly bette...  \n",
       "4    The effects of the intervention were most pron...  \n",
       "..                                                 ...  \n",
       "995  Gestational age misclassification is an unlike...  \n",
       "996  Sonography has no place in the diagnosis of un...  \n",
       "997  These results suggest little need to use peak ...  \n",
       "998  The PRP group recorded reduced pain, swelling,...  \n",
       "999  Paediatric SF medicines were not more erosive ...  \n",
       "\n",
       "[1000 rows x 3 columns]"
      ]
     },
     "execution_count": 36,
     "metadata": {},
     "output_type": "execute_result"
    }
   ],
   "source": [
    "data = pd.read_csv('pubmedqa_new.csv')\n",
    "data"
   ]
  },
  {
   "cell_type": "code",
   "execution_count": 55,
   "id": "5b782304",
   "metadata": {},
   "outputs": [],
   "source": [
    "mylist = []\n",
    "for doc in data['Context']:\n",
    "    dc=nlp(doc)\n",
    "    mylist.append(dc._.coref_resolved)\n",
    "\n",
    "    "
   ]
  },
  {
   "cell_type": "code",
   "execution_count": 57,
   "id": "09435d48",
   "metadata": {},
   "outputs": [],
   "source": [
    "data['resolved_context'] = mylist\n",
    "data"
   ]
  },
  {
   "cell_type": "code",
   "execution_count": 64,
   "id": "e4ccf938",
   "metadata": {},
   "outputs": [
    {
     "data": {
      "text/html": [
       "<div>\n",
       "<style scoped>\n",
       "    .dataframe tbody tr th:only-of-type {\n",
       "        vertical-align: middle;\n",
       "    }\n",
       "\n",
       "    .dataframe tbody tr th {\n",
       "        vertical-align: top;\n",
       "    }\n",
       "\n",
       "    .dataframe thead th {\n",
       "        text-align: right;\n",
       "    }\n",
       "</style>\n",
       "<table border=\"1\" class=\"dataframe\">\n",
       "  <thead>\n",
       "    <tr style=\"text-align: right;\">\n",
       "      <th></th>\n",
       "      <th>Question</th>\n",
       "      <th>Answer</th>\n",
       "      <th>resolved_context</th>\n",
       "    </tr>\n",
       "  </thead>\n",
       "  <tbody>\n",
       "    <tr>\n",
       "      <th>0</th>\n",
       "      <td>Do mitochondria play a role in remodelling lac...</td>\n",
       "      <td>Results depicted mitochondrial dynamics in viv...</td>\n",
       "      <td>['Programmed cell death (PCD) is the regulated...</td>\n",
       "    </tr>\n",
       "    <tr>\n",
       "      <th>1</th>\n",
       "      <td>Landolt C and snellen e acuity: differences in...</td>\n",
       "      <td>Using the charts described, there was only a s...</td>\n",
       "      <td>['Assessment of visual acuity depends on the o...</td>\n",
       "    </tr>\n",
       "    <tr>\n",
       "      <th>2</th>\n",
       "      <td>Syncope during bathing in infants, a pediatric...</td>\n",
       "      <td>\"Aquagenic maladies\" could be a pediatric form...</td>\n",
       "      <td>['Apparent life-threatening events in infants ...</td>\n",
       "    </tr>\n",
       "    <tr>\n",
       "      <th>3</th>\n",
       "      <td>Are the long-term results of the transanal pul...</td>\n",
       "      <td>Our long-term study showed significantly bette...</td>\n",
       "      <td>['The transanal endorectal pull-through (TERPT...</td>\n",
       "    </tr>\n",
       "    <tr>\n",
       "      <th>4</th>\n",
       "      <td>Can tailored interventions increase mammograph...</td>\n",
       "      <td>The effects of the intervention were most pron...</td>\n",
       "      <td>['Telephone counseling and tailored print comm...</td>\n",
       "    </tr>\n",
       "    <tr>\n",
       "      <th>...</th>\n",
       "      <td>...</td>\n",
       "      <td>...</td>\n",
       "      <td>...</td>\n",
       "    </tr>\n",
       "    <tr>\n",
       "      <th>995</th>\n",
       "      <td>Does gestational age misclassification explain...</td>\n",
       "      <td>Gestational age misclassification is an unlike...</td>\n",
       "      <td>['After 34 weeks gestation, summary measures o...</td>\n",
       "    </tr>\n",
       "    <tr>\n",
       "      <th>996</th>\n",
       "      <td>Is there any interest to perform ultrasonograp...</td>\n",
       "      <td>Sonography has no place in the diagnosis of un...</td>\n",
       "      <td>['To evaluate the accuracy of ultrasonographic...</td>\n",
       "    </tr>\n",
       "    <tr>\n",
       "      <th>997</th>\n",
       "      <td>Is peak concentration needed in therapeutic dr...</td>\n",
       "      <td>These results suggest little need to use peak ...</td>\n",
       "      <td>['We analyzed the pharmacokinetic-pharmacodyna...</td>\n",
       "    </tr>\n",
       "    <tr>\n",
       "      <th>998</th>\n",
       "      <td>Can autologous platelet-rich plasma gel enhanc...</td>\n",
       "      <td>The PRP group recorded reduced pain, swelling,...</td>\n",
       "      <td>['This investigation assesses the effect of pl...</td>\n",
       "    </tr>\n",
       "    <tr>\n",
       "      <th>999</th>\n",
       "      <td>Are sugars-free medicines more erosive than su...</td>\n",
       "      <td>Paediatric SF medicines were not more erosive ...</td>\n",
       "      <td>['The reduced use of sugars-containing (SC) li...</td>\n",
       "    </tr>\n",
       "  </tbody>\n",
       "</table>\n",
       "<p>1000 rows × 3 columns</p>\n",
       "</div>"
      ],
      "text/plain": [
       "                                              Question  \\\n",
       "0    Do mitochondria play a role in remodelling lac...   \n",
       "1    Landolt C and snellen e acuity: differences in...   \n",
       "2    Syncope during bathing in infants, a pediatric...   \n",
       "3    Are the long-term results of the transanal pul...   \n",
       "4    Can tailored interventions increase mammograph...   \n",
       "..                                                 ...   \n",
       "995  Does gestational age misclassification explain...   \n",
       "996  Is there any interest to perform ultrasonograp...   \n",
       "997  Is peak concentration needed in therapeutic dr...   \n",
       "998  Can autologous platelet-rich plasma gel enhanc...   \n",
       "999  Are sugars-free medicines more erosive than su...   \n",
       "\n",
       "                                                Answer  \\\n",
       "0    Results depicted mitochondrial dynamics in viv...   \n",
       "1    Using the charts described, there was only a s...   \n",
       "2    \"Aquagenic maladies\" could be a pediatric form...   \n",
       "3    Our long-term study showed significantly bette...   \n",
       "4    The effects of the intervention were most pron...   \n",
       "..                                                 ...   \n",
       "995  Gestational age misclassification is an unlike...   \n",
       "996  Sonography has no place in the diagnosis of un...   \n",
       "997  These results suggest little need to use peak ...   \n",
       "998  The PRP group recorded reduced pain, swelling,...   \n",
       "999  Paediatric SF medicines were not more erosive ...   \n",
       "\n",
       "                                      resolved_context  \n",
       "0    ['Programmed cell death (PCD) is the regulated...  \n",
       "1    ['Assessment of visual acuity depends on the o...  \n",
       "2    ['Apparent life-threatening events in infants ...  \n",
       "3    ['The transanal endorectal pull-through (TERPT...  \n",
       "4    ['Telephone counseling and tailored print comm...  \n",
       "..                                                 ...  \n",
       "995  ['After 34 weeks gestation, summary measures o...  \n",
       "996  ['To evaluate the accuracy of ultrasonographic...  \n",
       "997  ['We analyzed the pharmacokinetic-pharmacodyna...  \n",
       "998  ['This investigation assesses the effect of pl...  \n",
       "999  ['The reduced use of sugars-containing (SC) li...  \n",
       "\n",
       "[1000 rows x 3 columns]"
      ]
     },
     "execution_count": 64,
     "metadata": {},
     "output_type": "execute_result"
    }
   ],
   "source": [
    "data.drop(['Context'],axis=1)"
   ]
  },
  {
   "cell_type": "code",
   "execution_count": 65,
   "id": "ab9b52ba",
   "metadata": {},
   "outputs": [],
   "source": [
    "data.to_csv('pubmedqa_resolved.csv')"
   ]
  },
  {
   "cell_type": "code",
   "execution_count": 60,
   "id": "d02a0ea1",
   "metadata": {},
   "outputs": [
    {
     "data": {
      "text/plain": [
       "\"['Programmed cell death (PCD) is the regulated death of cells within an organism. The lace plant (Aponogeton madagascariensis) produces perforations in its leaves through PCD. The leaves of the plant consist of a latticework of longitudinal and transverse veins enclosing areoles. PCD occurs in the cells at the center of these areoles and progresses outwards, stopping approximately five cells from the vasculature. The role of mitochondria during PCD has been recognized in animals; however, it has been less studied during PCD in plants.', 'The following paper elucidates the role of mitochondrial dynamics during developmentally regulated PCD in vivo in A. madagascariensis. A single areole within a window stage leaf (PCD is occurring) was divided into three areas based on the progression of PCD; cells that will not undergo PCD (NPCD), cells in early stages of PCD (EPCD), and cells in late stages of PCD (LPCD). Window stage leaves were stained with the mitochondrial dye MitoTracker Red CMXRos and examined. Mitochondrial dynamics were delineated into four categories (M1-M4) based on characteristics including distribution, motility, and membrane potential (ΔΨm). A TUNEL assay showed fragmented nDNA in a gradient over these mitochondrial stages. Chloroplasts and transvacuolar strands were also examined using live cell imaging. The possible importance of mitochondrial permeability transition pore (PTP) formation during PCD was indirectly examined via in vivo cyclosporine A (CsA) treatment. This treatment resulted in lace plant leaves with a significantly lower number of perforations compared to controls, and that displayed mitochondrial dynamics similar to that of non-PCD cells.']\""
      ]
     },
     "execution_count": 60,
     "metadata": {},
     "output_type": "execute_result"
    }
   ],
   "source": [
    "data['Context'][0]"
   ]
  },
  {
   "cell_type": "code",
   "execution_count": 61,
   "id": "2dea5936",
   "metadata": {},
   "outputs": [
    {
     "data": {
      "text/plain": [
       "\"['Programmed cell death (PCD) is the regulated death of cells within an organism. The lace plant (Aponogeton madagascariensis) produces perforations in The lace plant (Aponogeton madagascariensis) leaves through PCD. The leaves of The lace plant (Aponogeton madagascariensis) consist of a latticework of longitudinal and transverse veins enclosing areoles. PCD occurs in the cells at the center of these areoles and progresses outwards, stopping approximately five cells from the vasculature. The role of mitochondria during PCD has been recognized in animals; however, The role of mitochondria during PCD has been less studied during PCD in plants.', 'The following paper elucidates the role of mitochondrial dynamics during developmentally regulated PCD in vivo in A. madagascariensis. A single areole within a window stage leaf (PCD is occurring) was divided into three areas based on the progression of PCD; cells that will not undergo PCD (NPCD), cells in early stages of PCD (EPCD), and cells in late stages of PCD. Window stage leaves were stained with the mitochondrial dye MitoTracker Red CMXRos and examined. Mitochondrial dynamics were delineated into four categories (M1-M4) based on characteristics including distribution, motility, and membrane potential (ΔΨm). A TUNEL assay showed fragmented nDNA in a gradient over these mitochondrial stages. Chloroplasts and transvacuolar strands were also examined using live cell imaging. The possible importance of mitochondrial permeability transition pore (PTP) formation during PCD was indirectly examined via in vivo cyclosporine A (CsA) treatment. vivo cyclosporine A (CsA) treatment resulted in lace plant leaves with a significantly lower number of perforations compared to controls, and that displayed mitochondrial dynamics similar to that of non-PCD cells.']\""
      ]
     },
     "execution_count": 61,
     "metadata": {},
     "output_type": "execute_result"
    }
   ],
   "source": [
    "data['resolved_context'][0]"
   ]
  },
  {
   "cell_type": "code",
   "execution_count": 42,
   "id": "f9443484",
   "metadata": {},
   "outputs": [
    {
     "data": {
      "text/plain": [
       "True"
      ]
     },
     "execution_count": 42,
     "metadata": {},
     "output_type": "execute_result"
    }
   ],
   "source": [
    "doc._.has_coref         ## True\n"
   ]
  },
  {
   "cell_type": "code",
   "execution_count": 43,
   "id": "684cee26",
   "metadata": {},
   "outputs": [
    {
     "data": {
      "text/plain": [
       "[The lace plant (Aponogeton madagascariensis): [The lace plant (Aponogeton madagascariensis), its, the plant],\n",
       " PCD: [PCD, PCD, PCD, PCD, PCD, PCD, PCD, PCD, PCD (LPCD)],\n",
       " The role of mitochondria during PCD: [The role of mitochondria during PCD, it],\n",
       " vivo: [vivo, vivo],\n",
       " vivo cyclosporine A (CsA) treatment: [vivo cyclosporine A (CsA) treatment, This treatment]]"
      ]
     },
     "execution_count": 43,
     "metadata": {},
     "output_type": "execute_result"
    }
   ],
   "source": [
    "doc._.coref_clusters    \n"
   ]
  }
 ],
 "metadata": {
  "kernelspec": {
   "display_name": "Python 3 (ipykernel)",
   "language": "python",
   "name": "python3"
  },
  "language_info": {
   "codemirror_mode": {
    "name": "ipython",
    "version": 3
   },
   "file_extension": ".py",
   "mimetype": "text/x-python",
   "name": "python",
   "nbconvert_exporter": "python",
   "pygments_lexer": "ipython3",
   "version": "3.9.7"
  }
 },
 "nbformat": 4,
 "nbformat_minor": 5
}
