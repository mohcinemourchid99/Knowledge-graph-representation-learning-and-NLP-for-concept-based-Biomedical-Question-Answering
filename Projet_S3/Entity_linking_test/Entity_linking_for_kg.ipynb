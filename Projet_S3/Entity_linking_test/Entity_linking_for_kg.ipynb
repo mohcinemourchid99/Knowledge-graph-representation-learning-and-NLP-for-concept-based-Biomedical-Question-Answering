{
 "cells": [
  {
   "cell_type": "code",
   "execution_count": 3,
   "metadata": {
    "id": "S4uFMvBYmD2a"
   },
   "outputs": [],
   "source": [
    "import os\n",
    "import json\n",
    "import pickle\n",
    "import numpy as np\n",
    "from tqdm import tqdm\n",
    "from collections import defaultdict"
   ]
  },
  {
   "cell_type": "code",
   "execution_count": 2,
   "metadata": {
    "id": "YQ7-6_LhmD2f"
   },
   "outputs": [],
   "source": [
    "repo_root = '/data'"
   ]
  },
  {
   "cell_type": "markdown",
   "metadata": {
    "id": "Oa-80E5QmD2m"
   },
   "source": [
    "## Link entities to KG"
   ]
  },
  {
   "cell_type": "markdown",
   "metadata": {
    "id": "wpTJ3DBgmD2q"
   },
   "source": [
    "First, install the scispacy model:\n",
    "```\n",
    "pip install scispacy==0.3.0\n",
    "pip install https://s3-us-west-2.amazonaws.com/ai2-s2-scispacy/releases/v0.3.0/en_core_sci_sm-0.3.0.tar.gz\n",
    "```"
   ]
  },
  {
   "cell_type": "code",
   "execution_count": null,
   "metadata": {
    "colab": {
     "base_uri": "https://localhost:8080/"
    },
    "id": "q1M-w9tS3mtG",
    "outputId": "6b59ae2f-9e9e-47a6-840f-f4f711e2cd71"
   },
   "outputs": [
    {
     "name": "stdout",
     "output_type": "stream",
     "text": [
      "Looking in indexes: https://pypi.org/simple, https://us-python.pkg.dev/colab-wheels/public/simple/\n",
      "Collecting scispacy==0.3.0\n",
      "  Downloading scispacy-0.3.0-py3-none-any.whl (42 kB)\n",
      "\u001b[2K     \u001b[90m━━━━━━━━━━━━━━━━━━━━━━━━━━━━━━━━━━━━━━━━\u001b[0m \u001b[32m43.0/43.0 KB\u001b[0m \u001b[31m1.9 MB/s\u001b[0m eta \u001b[36m0:00:00\u001b[0m\n",
      "\u001b[?25hRequirement already satisfied: requests<3.0.0conllu,>=2.0.0 in /usr/local/lib/python3.8/dist-packages (from scispacy==0.3.0) (2.25.1)\n",
      "Collecting spacy<3.0.0,>=2.3.0\n",
      "  Downloading spacy-2.3.9-cp38-cp38-manylinux_2_17_x86_64.manylinux2014_x86_64.whl (5.0 MB)\n",
      "\u001b[2K     \u001b[90m━━━━━━━━━━━━━━━━━━━━━━━━━━━━━━━━━━━━━━━━\u001b[0m \u001b[32m5.0/5.0 MB\u001b[0m \u001b[31m42.2 MB/s\u001b[0m eta \u001b[36m0:00:00\u001b[0m\n",
      "\u001b[?25hRequirement already satisfied: joblib in /usr/local/lib/python3.8/dist-packages (from scispacy==0.3.0) (1.2.0)\n",
      "Requirement already satisfied: numpy in /usr/local/lib/python3.8/dist-packages (from scispacy==0.3.0) (1.21.6)\n",
      "Requirement already satisfied: scikit-learn>=0.20.3 in /usr/local/lib/python3.8/dist-packages (from scispacy==0.3.0) (1.0.2)\n",
      "Collecting nmslib>=1.7.3.6\n",
      "  Downloading nmslib-2.1.1-cp38-cp38-manylinux2010_x86_64.whl (13.4 MB)\n",
      "\u001b[2K     \u001b[90m━━━━━━━━━━━━━━━━━━━━━━━━━━━━━━━━━━━━━━━━\u001b[0m \u001b[32m13.4/13.4 MB\u001b[0m \u001b[31m50.6 MB/s\u001b[0m eta \u001b[36m0:00:00\u001b[0m\n",
      "\u001b[?25hCollecting pysbd\n",
      "  Downloading pysbd-0.3.4-py3-none-any.whl (71 kB)\n",
      "\u001b[2K     \u001b[90m━━━━━━━━━━━━━━━━━━━━━━━━━━━━━━━━━━━━━━━━\u001b[0m \u001b[32m71.1/71.1 KB\u001b[0m \u001b[31m7.4 MB/s\u001b[0m eta \u001b[36m0:00:00\u001b[0m\n",
      "\u001b[?25hCollecting pybind11<2.6.2\n",
      "  Downloading pybind11-2.6.1-py2.py3-none-any.whl (188 kB)\n",
      "\u001b[2K     \u001b[90m━━━━━━━━━━━━━━━━━━━━━━━━━━━━━━━━━━━━━━\u001b[0m \u001b[32m188.5/188.5 KB\u001b[0m \u001b[31m20.1 MB/s\u001b[0m eta \u001b[36m0:00:00\u001b[0m\n",
      "\u001b[?25hRequirement already satisfied: psutil in /usr/local/lib/python3.8/dist-packages (from nmslib>=1.7.3.6->scispacy==0.3.0) (5.4.8)\n",
      "Requirement already satisfied: idna<3,>=2.5 in /usr/local/lib/python3.8/dist-packages (from requests<3.0.0conllu,>=2.0.0->scispacy==0.3.0) (2.10)\n",
      "Requirement already satisfied: certifi>=2017.4.17 in /usr/local/lib/python3.8/dist-packages (from requests<3.0.0conllu,>=2.0.0->scispacy==0.3.0) (2022.12.7)\n",
      "Requirement already satisfied: chardet<5,>=3.0.2 in /usr/local/lib/python3.8/dist-packages (from requests<3.0.0conllu,>=2.0.0->scispacy==0.3.0) (4.0.0)\n",
      "Requirement already satisfied: urllib3<1.27,>=1.21.1 in /usr/local/lib/python3.8/dist-packages (from requests<3.0.0conllu,>=2.0.0->scispacy==0.3.0) (1.24.3)\n",
      "Requirement already satisfied: scipy>=1.1.0 in /usr/local/lib/python3.8/dist-packages (from scikit-learn>=0.20.3->scispacy==0.3.0) (1.7.3)\n",
      "Requirement already satisfied: threadpoolctl>=2.0.0 in /usr/local/lib/python3.8/dist-packages (from scikit-learn>=0.20.3->scispacy==0.3.0) (3.1.0)\n",
      "Requirement already satisfied: wasabi<1.1.0,>=0.4.0 in /usr/local/lib/python3.8/dist-packages (from spacy<3.0.0,>=2.3.0->scispacy==0.3.0) (0.10.1)\n",
      "Collecting catalogue<1.1.0,>=0.0.7\n",
      "  Downloading catalogue-1.0.2-py2.py3-none-any.whl (16 kB)\n",
      "Collecting plac<1.2.0,>=0.9.6\n",
      "  Downloading plac-1.1.3-py2.py3-none-any.whl (20 kB)\n",
      "Collecting thinc<7.5.0,>=7.4.1\n",
      "  Downloading thinc-7.4.6-cp38-cp38-manylinux_2_17_x86_64.manylinux2014_x86_64.whl (1.1 MB)\n",
      "\u001b[2K     \u001b[90m━━━━━━━━━━━━━━━━━━━━━━━━━━━━━━━━━━━━━━━━\u001b[0m \u001b[32m1.1/1.1 MB\u001b[0m \u001b[31m63.5 MB/s\u001b[0m eta \u001b[36m0:00:00\u001b[0m\n",
      "\u001b[?25hRequirement already satisfied: preshed<3.1.0,>=3.0.2 in /usr/local/lib/python3.8/dist-packages (from spacy<3.0.0,>=2.3.0->scispacy==0.3.0) (3.0.8)\n",
      "Requirement already satisfied: murmurhash<1.1.0,>=0.28.0 in /usr/local/lib/python3.8/dist-packages (from spacy<3.0.0,>=2.3.0->scispacy==0.3.0) (1.0.9)\n",
      "Requirement already satisfied: cymem<2.1.0,>=2.0.2 in /usr/local/lib/python3.8/dist-packages (from spacy<3.0.0,>=2.3.0->scispacy==0.3.0) (2.0.7)\n",
      "Collecting srsly<1.1.0,>=1.0.2\n",
      "  Downloading srsly-1.0.6-cp38-cp38-manylinux_2_17_x86_64.manylinux2014_x86_64.whl (211 kB)\n",
      "\u001b[2K     \u001b[90m━━━━━━━━━━━━━━━━━━━━━━━━━━━━━━━━━━━━━━\u001b[0m \u001b[32m211.1/211.1 KB\u001b[0m \u001b[31m23.1 MB/s\u001b[0m eta \u001b[36m0:00:00\u001b[0m\n",
      "\u001b[?25hRequirement already satisfied: setuptools in /usr/local/lib/python3.8/dist-packages (from spacy<3.0.0,>=2.3.0->scispacy==0.3.0) (57.4.0)\n",
      "Requirement already satisfied: tqdm<5.0.0,>=4.38.0 in /usr/local/lib/python3.8/dist-packages (from spacy<3.0.0,>=2.3.0->scispacy==0.3.0) (4.64.1)\n",
      "Requirement already satisfied: blis<0.8.0,>=0.4.0 in /usr/local/lib/python3.8/dist-packages (from spacy<3.0.0,>=2.3.0->scispacy==0.3.0) (0.7.9)\n",
      "Installing collected packages: plac, srsly, pysbd, pybind11, catalogue, thinc, nmslib, spacy, scispacy\n",
      "  Attempting uninstall: srsly\n",
      "    Found existing installation: srsly 2.4.5\n",
      "    Uninstalling srsly-2.4.5:\n",
      "      Successfully uninstalled srsly-2.4.5\n",
      "  Attempting uninstall: catalogue\n",
      "    Found existing installation: catalogue 2.0.8\n",
      "    Uninstalling catalogue-2.0.8:\n",
      "      Successfully uninstalled catalogue-2.0.8\n",
      "  Attempting uninstall: thinc\n",
      "    Found existing installation: thinc 8.1.6\n",
      "    Uninstalling thinc-8.1.6:\n",
      "      Successfully uninstalled thinc-8.1.6\n",
      "  Attempting uninstall: spacy\n",
      "    Found existing installation: spacy 3.4.4\n",
      "    Uninstalling spacy-3.4.4:\n",
      "      Successfully uninstalled spacy-3.4.4\n",
      "\u001b[31mERROR: pip's dependency resolver does not currently take into account all the packages that are installed. This behaviour is the source of the following dependency conflicts.\n",
      "en-core-web-sm 3.4.1 requires spacy<3.5.0,>=3.4.0, but you have spacy 2.3.9 which is incompatible.\n",
      "confection 0.0.3 requires srsly<3.0.0,>=2.4.0, but you have srsly 1.0.6 which is incompatible.\u001b[0m\u001b[31m\n",
      "\u001b[0mSuccessfully installed catalogue-1.0.2 nmslib-2.1.1 plac-1.1.3 pybind11-2.6.1 pysbd-0.3.4 scispacy-0.3.0 spacy-2.3.9 srsly-1.0.6 thinc-7.4.6\n"
     ]
    }
   ],
   "source": [
    "!pip install scispacy==0.3.0\n"
   ]
  },
  {
   "cell_type": "code",
   "execution_count": null,
   "metadata": {
    "colab": {
     "base_uri": "https://localhost:8080/"
    },
    "id": "8bcvKXhOpbol",
    "outputId": "7230898c-bd23-4fff-e359-93d2dcae1a8a"
   },
   "outputs": [
    {
     "name": "stdout",
     "output_type": "stream",
     "text": [
      "Looking in indexes: https://pypi.org/simple, https://us-python.pkg.dev/colab-wheels/public/simple/\n",
      "Collecting https://s3-us-west-2.amazonaws.com/ai2-s2-scispacy/releases/v0.3.0/en_core_sci_sm-0.3.0.tar.gz\n",
      "  Using cached https://s3-us-west-2.amazonaws.com/ai2-s2-scispacy/releases/v0.3.0/en_core_sci_sm-0.3.0.tar.gz (33.1 MB)\n",
      "  Preparing metadata (setup.py) ... \u001b[?25l\u001b[?25hdone\n",
      "Requirement already satisfied: spacy>=2.3.1 in /usr/local/lib/python3.8/dist-packages (from en-core-sci-sm==0.3.0) (2.3.9)\n",
      "Requirement already satisfied: srsly<1.1.0,>=1.0.2 in /usr/local/lib/python3.8/dist-packages (from spacy>=2.3.1->en-core-sci-sm==0.3.0) (1.0.6)\n",
      "Requirement already satisfied: numpy>=1.15.0 in /usr/local/lib/python3.8/dist-packages (from spacy>=2.3.1->en-core-sci-sm==0.3.0) (1.21.6)\n",
      "Requirement already satisfied: requests<3.0.0,>=2.13.0 in /usr/local/lib/python3.8/dist-packages (from spacy>=2.3.1->en-core-sci-sm==0.3.0) (2.25.1)\n",
      "Requirement already satisfied: preshed<3.1.0,>=3.0.2 in /usr/local/lib/python3.8/dist-packages (from spacy>=2.3.1->en-core-sci-sm==0.3.0) (3.0.8)\n",
      "Requirement already satisfied: wasabi<1.1.0,>=0.4.0 in /usr/local/lib/python3.8/dist-packages (from spacy>=2.3.1->en-core-sci-sm==0.3.0) (0.10.1)\n",
      "Requirement already satisfied: thinc<7.5.0,>=7.4.1 in /usr/local/lib/python3.8/dist-packages (from spacy>=2.3.1->en-core-sci-sm==0.3.0) (7.4.6)\n",
      "Requirement already satisfied: catalogue<1.1.0,>=0.0.7 in /usr/local/lib/python3.8/dist-packages (from spacy>=2.3.1->en-core-sci-sm==0.3.0) (1.0.2)\n",
      "Requirement already satisfied: cymem<2.1.0,>=2.0.2 in /usr/local/lib/python3.8/dist-packages (from spacy>=2.3.1->en-core-sci-sm==0.3.0) (2.0.7)\n",
      "Requirement already satisfied: tqdm<5.0.0,>=4.38.0 in /usr/local/lib/python3.8/dist-packages (from spacy>=2.3.1->en-core-sci-sm==0.3.0) (4.64.1)\n",
      "Requirement already satisfied: setuptools in /usr/local/lib/python3.8/dist-packages (from spacy>=2.3.1->en-core-sci-sm==0.3.0) (57.4.0)\n",
      "Requirement already satisfied: murmurhash<1.1.0,>=0.28.0 in /usr/local/lib/python3.8/dist-packages (from spacy>=2.3.1->en-core-sci-sm==0.3.0) (1.0.9)\n",
      "Requirement already satisfied: blis<0.8.0,>=0.4.0 in /usr/local/lib/python3.8/dist-packages (from spacy>=2.3.1->en-core-sci-sm==0.3.0) (0.7.9)\n",
      "Requirement already satisfied: plac<1.2.0,>=0.9.6 in /usr/local/lib/python3.8/dist-packages (from spacy>=2.3.1->en-core-sci-sm==0.3.0) (1.1.3)\n",
      "Requirement already satisfied: urllib3<1.27,>=1.21.1 in /usr/local/lib/python3.8/dist-packages (from requests<3.0.0,>=2.13.0->spacy>=2.3.1->en-core-sci-sm==0.3.0) (1.24.3)\n",
      "Requirement already satisfied: certifi>=2017.4.17 in /usr/local/lib/python3.8/dist-packages (from requests<3.0.0,>=2.13.0->spacy>=2.3.1->en-core-sci-sm==0.3.0) (2022.12.7)\n",
      "Requirement already satisfied: chardet<5,>=3.0.2 in /usr/local/lib/python3.8/dist-packages (from requests<3.0.0,>=2.13.0->spacy>=2.3.1->en-core-sci-sm==0.3.0) (4.0.0)\n",
      "Requirement already satisfied: idna<3,>=2.5 in /usr/local/lib/python3.8/dist-packages (from requests<3.0.0,>=2.13.0->spacy>=2.3.1->en-core-sci-sm==0.3.0) (2.10)\n",
      "Building wheels for collected packages: en-core-sci-sm\n",
      "  Building wheel for en-core-sci-sm (setup.py) ... \u001b[?25l\u001b[?25hdone\n",
      "  Created wheel for en-core-sci-sm: filename=en_core_sci_sm-0.3.0-py3-none-any.whl size=33119277 sha256=c2218b4ffddc40a4d3a6630dd35b3abaff194be9fbb13ecc849edd849d9da1fa\n",
      "  Stored in directory: /root/.cache/pip/wheels/16/ad/7c/6dbe140ee4e4268cba6a5cb32da6f80e91d49c07e03d2be8ec\n",
      "Successfully built en-core-sci-sm\n",
      "Installing collected packages: en-core-sci-sm\n",
      "Successfully installed en-core-sci-sm-0.3.0\n"
     ]
    }
   ],
   "source": [
    "!pip install https://s3-us-west-2.amazonaws.com/ai2-s2-scispacy/releases/v0.3.0/en_core_sci_sm-0.3.0.tar.gz\n"
   ]
  },
  {
   "cell_type": "code",
   "execution_count": null,
   "metadata": {
    "colab": {
     "base_uri": "https://localhost:8080/"
    },
    "id": "1Gu3Za-hpWfE",
    "outputId": "b82b9712-fc27-4466-ac1c-f65f6e251863"
   },
   "outputs": [
    {
     "name": "stdout",
     "output_type": "stream",
     "text": [
      "\u001b[33mWARNING: Skipping en_core_sci_sm as it is not installed.\u001b[0m\u001b[33m\n",
      "\u001b[0m"
     ]
    }
   ],
   "source": [
    "!pip install en_core_sci_sm"
   ]
  },
  {
   "cell_type": "code",
   "execution_count": null,
   "metadata": {
    "colab": {
     "base_uri": "https://localhost:8080/"
    },
    "id": "A8daGFDvmD2r",
    "outputId": "e71f1b2b-d2b7-4839-e3b0-6702865dda97"
   },
   "outputs": [
    {
     "name": "stdout",
     "output_type": "stream",
     "text": [
      "https://s3-us-west-2.amazonaws.com/ai2-s2-scispacy/data/linkers/2020-10-09/umls/tfidf_vectors_sparse.npz not found in cache, downloading to /tmp/tmpjk5c5j91\n",
      "Finished download, copying /tmp/tmpjk5c5j91 to cache at /root/.scispacy/datasets/e9f7327283e43f0482f7c0c71b71dec278a58ccb3ffdd03c2c2350159e7ef146.f2a350ad19015b2591545f7feeed6a6d6d2fffcd635d868a5d7fc0dfc3cadfd8.tfidf_vectors_sparse.npz\n",
      "https://s3-us-west-2.amazonaws.com/ai2-s2-scispacy/data/linkers/2020-10-09/umls/nmslib_index.bin not found in cache, downloading to /tmp/tmpv1usl298\n",
      "Finished download, copying /tmp/tmpv1usl298 to cache at /root/.scispacy/datasets/f48455d6c79262057cce66b4619123c2b558b21092d42fac97f47bb99a5b8f9f.dd70d3dffe7d90d7ac8914460e16a48375dab32485fb6313a34e6fbcaf53218b.nmslib_index.bin\n",
      "https://s3-us-west-2.amazonaws.com/ai2-s2-scispacy/data/linkers/2020-10-09/umls/tfidf_vectorizer.joblib not found in cache, downloading to /tmp/tmpn4juf_0s\n",
      "Finished download, copying /tmp/tmpn4juf_0s to cache at /root/.scispacy/datasets/8c32f1e7ddf19ec695c321f68a71f06a191aec8efcf6b645b78fa6250d8d81d3.89019b4a62a096f33ea23677557a4cde66ebc8228f30afabac38e32f834020dc.tfidf_vectorizer.joblib\n"
     ]
    },
    {
     "name": "stderr",
     "output_type": "stream",
     "text": [
      "/usr/local/lib/python3.8/dist-packages/sklearn/base.py:329: UserWarning: Trying to unpickle estimator TfidfTransformer from version 0.20.3 when using version 1.0.2. This might lead to breaking code or invalid results. Use at your own risk. For more info please refer to:\n",
      "https://scikit-learn.org/stable/modules/model_persistence.html#security-maintainability-limitations\n",
      "  warnings.warn(\n",
      "/usr/local/lib/python3.8/dist-packages/sklearn/base.py:329: UserWarning: Trying to unpickle estimator TfidfVectorizer from version 0.20.3 when using version 1.0.2. This might lead to breaking code or invalid results. Use at your own risk. For more info please refer to:\n",
      "https://scikit-learn.org/stable/modules/model_persistence.html#security-maintainability-limitations\n",
      "  warnings.warn(\n"
     ]
    },
    {
     "name": "stdout",
     "output_type": "stream",
     "text": [
      "https://s3-us-west-2.amazonaws.com/ai2-s2-scispacy/data/linkers/2020-10-09/umls/concept_aliases.json not found in cache, downloading to /tmp/tmpmn4ni39v\n",
      "Finished download, copying /tmp/tmpmn4ni39v to cache at /root/.scispacy/datasets/1428ec15d3b1061731ea273c03699130b3d6b90948993e74bda66af605ff8e2a.aeb7a686c654df6bccb6c2c23d3eda3eb381daaefda4592b58158d0bee53b352.concept_aliases.json\n",
      "https://s3-us-west-2.amazonaws.com/ai2-s2-scispacy/data/kbs/2020-10-09/umls_2020_aa_cat0129.jsonl not found in cache, downloading to /tmp/tmpguadd6q5\n",
      "Finished download, copying /tmp/tmpguadd6q5 to cache at /root/.scispacy/datasets/4d7fb8fcae1035d1e0a47d9072b43d5a628057d35497fbfb2499b4b7b2dd4dd7.05ec7eef12f336d4666da85b7fa69b9401883a7dd4244473f7b88b413ccbba03.umls_2020_aa_cat0129.jsonl\n",
      "https://s3-us-west-2.amazonaws.com/ai2-s2-scispacy/data/umls_semantic_type_tree.tsv not found in cache, downloading to /tmp/tmp4lwd5rsv\n",
      "Finished download, copying /tmp/tmp4lwd5rsv to cache at /root/.scispacy/datasets/21a1012c532c3a431d60895c509f5b4d45b0f8966c4178b892190a302b21836f.330707f4efe774134872b9f77f0e3208c1d30f50800b3b39a6b8ec21d9adf1b7.umls_semantic_type_tree.tsv\n"
     ]
    }
   ],
   "source": [
    "#Load scispacy entity linker\n",
    "import spacy\n",
    "import scispacy\n",
    "from scispacy.linking import EntityLinker\n",
    "import en_core_sci_sm\n",
    "def load_entity_linker(threshold=0.90):\n",
    "    nlp = en_core_sci_sm.load()\n",
    "    linker = EntityLinker(\n",
    "        resolve_abbreviations=True,\n",
    "        name=\"umls\",\n",
    "        threshold=threshold)\n",
    "    nlp.add_pipe(linker)\n",
    "    return nlp, linker\n",
    "\n",
    "nlp, linker = load_entity_linker()"
   ]
  },
  {
   "cell_type": "code",
   "execution_count": null,
   "metadata": {
    "id": "hbBAsoykmD2t"
   },
   "outputs": [],
   "source": [
    "def entity_linking_to_umls(sentence, nlp, linker):\n",
    "    doc = nlp(sentence)\n",
    "    entities = doc.ents\n",
    "    all_entities_results = []\n",
    "    for mm in range(len(entities)):\n",
    "        entity_text = entities[mm].text\n",
    "        entity_start = entities[mm].start\n",
    "        entity_end = entities[mm].end\n",
    "        all_linked_entities = entities[mm]._.kb_ents\n",
    "        all_entity_results = []\n",
    "        for ii in range(len(all_linked_entities)):\n",
    "            curr_concept_id = all_linked_entities[ii][0]\n",
    "            curr_score = all_linked_entities[ii][1]\n",
    "            curr_scispacy_entity = linker.kb.cui_to_entity[all_linked_entities[ii][0]]\n",
    "            curr_canonical_name = curr_scispacy_entity.canonical_name\n",
    "            curr_TUIs = curr_scispacy_entity.types\n",
    "            curr_entity_result = {\"Canonical Name\": curr_canonical_name, \"Concept ID\": curr_concept_id,\n",
    "                                  \"TUIs\": curr_TUIs, \"Score\": curr_score}\n",
    "            all_entity_results.append(curr_entity_result)\n",
    "        curr_entities_result = {\"text\": entity_text, \"start\": entity_start, \"end\": entity_end, \n",
    "                                \"start_char\": entities[mm].start_char, \"end_char\": entities[mm].end_char,\n",
    "                                \"linking_results\": all_entity_results}\n",
    "        all_entities_results.append(curr_entities_result)\n",
    "    return all_entities_results"
   ]
  },
  {
   "cell_type": "code",
   "execution_count": null,
   "metadata": {
    "colab": {
     "base_uri": "https://localhost:8080/"
    },
    "id": "RLdVuQsamD2v",
    "outputId": "557ddf53-a292-451f-ec33-77579ff6c2a0"
   },
   "outputs": [
    {
     "name": "stderr",
     "output_type": "stream",
     "text": [
      "/usr/local/lib/python3.8/dist-packages/scispacy/candidate_generation.py:284: VisibleDeprecationWarning: Creating an ndarray from ragged nested sequences (which is a list-or-tuple of lists-or-tuples-or ndarrays with different lengths or shapes) is deprecated. If you meant to do this, you must specify 'dtype=object' when creating the ndarray.\n",
      "  extended_neighbors[empty_vectors_boolean_flags] = numpy.array(neighbors)[:-1]\n",
      "/usr/local/lib/python3.8/dist-packages/scispacy/candidate_generation.py:285: VisibleDeprecationWarning: Creating an ndarray from ragged nested sequences (which is a list-or-tuple of lists-or-tuples-or ndarrays with different lengths or shapes) is deprecated. If you meant to do this, you must specify 'dtype=object' when creating the ndarray.\n",
      "  extended_distances[empty_vectors_boolean_flags] = numpy.array(distances)[:-1]\n"
     ]
    },
    {
     "data": {
      "text/plain": [
       "[{'text': 'girl',\n",
       "  'start': 2,\n",
       "  'end': 3,\n",
       "  'start_char': 13,\n",
       "  'end_char': 17,\n",
       "  'linking_results': [{'Canonical Name': 'Female child',\n",
       "    'Concept ID': 'C0870604',\n",
       "    'TUIs': ['T100'],\n",
       "    'Score': 1.0},\n",
       "   {'Canonical Name': 'Woman',\n",
       "    'Concept ID': 'C0043210',\n",
       "    'TUIs': ['T098'],\n",
       "    'Score': 1.0}]},\n",
       " {'text': 'emergency department',\n",
       "  'start': 7,\n",
       "  'end': 9,\n",
       "  'start_char': 36,\n",
       "  'end_char': 56,\n",
       "  'linking_results': [{'Canonical Name': 'Accident and Emergency department',\n",
       "    'Concept ID': 'C0562508',\n",
       "    'TUIs': ['T073', 'T093'],\n",
       "    'Score': 1.0}]},\n",
       " {'text': 'mother',\n",
       "  'start': 11,\n",
       "  'end': 12,\n",
       "  'start_char': 64,\n",
       "  'end_char': 70,\n",
       "  'linking_results': [{'Canonical Name': 'Mother (person)',\n",
       "    'Concept ID': 'C0026591',\n",
       "    'TUIs': ['T099'],\n",
       "    'Score': 1.0},\n",
       "   {'Canonical Name': 'Relationship - Mother',\n",
       "    'Concept ID': 'C1546508',\n",
       "    'TUIs': ['T078'],\n",
       "    'Score': 1.0}]},\n",
       " {'text': 'multiple',\n",
       "  'start': 14,\n",
       "  'end': 15,\n",
       "  'start_char': 82,\n",
       "  'end_char': 90,\n",
       "  'linking_results': [{'Canonical Name': 'Numerous',\n",
       "    'Concept ID': 'C0439064',\n",
       "    'TUIs': ['T081'],\n",
       "    'Score': 1.0}]},\n",
       " {'text': 'episodes',\n",
       "  'start': 15,\n",
       "  'end': 16,\n",
       "  'start_char': 91,\n",
       "  'end_char': 99,\n",
       "  'linking_results': [{'Canonical Name': 'Episode of',\n",
       "    'Concept ID': 'C0332189',\n",
       "    'TUIs': ['T079'],\n",
       "    'Score': 1.0}]},\n",
       " {'text': 'nausea',\n",
       "  'start': 17,\n",
       "  'end': 18,\n",
       "  'start_char': 103,\n",
       "  'end_char': 109,\n",
       "  'linking_results': [{'Canonical Name': 'Nausea',\n",
       "    'Concept ID': 'C0027497',\n",
       "    'TUIs': ['T184'],\n",
       "    'Score': 0.9999998807907104},\n",
       "   {'Canonical Name': 'Have Nausea',\n",
       "    'Concept ID': 'C2984057',\n",
       "    'TUIs': ['T170'],\n",
       "    'Score': 0.9999998807907104},\n",
       "   {'Canonical Name': 'Usual Severity Nausea',\n",
       "    'Concept ID': 'C4085661',\n",
       "    'TUIs': ['T170'],\n",
       "    'Score': 0.9999998807907104},\n",
       "   {'Canonical Name': 'Nausea Subscale',\n",
       "    'Concept ID': 'C4761315',\n",
       "    'TUIs': ['T170'],\n",
       "    'Score': 0.9999998807907104},\n",
       "   {'Canonical Name': 'Nausea, CTCAE 3.0',\n",
       "    'Concept ID': 'C1963179',\n",
       "    'TUIs': ['T033'],\n",
       "    'Score': 0.9999998807907104}]},\n",
       " {'text': 'vomiting',\n",
       "  'start': 19,\n",
       "  'end': 20,\n",
       "  'start_char': 114,\n",
       "  'end_char': 122,\n",
       "  'linking_results': [{'Canonical Name': 'How Often Vomiting',\n",
       "    'Concept ID': 'C4084769',\n",
       "    'TUIs': ['T170'],\n",
       "    'Score': 1.0},\n",
       "   {'Canonical Name': 'How Much Distress Vomiting',\n",
       "    'Concept ID': 'C4084766',\n",
       "    'TUIs': ['T170'],\n",
       "    'Score': 1.0},\n",
       "   {'Canonical Name': 'Vomiting, CTCAE',\n",
       "    'Concept ID': 'C1963281',\n",
       "    'TUIs': ['T033'],\n",
       "    'Score': 1.0},\n",
       "   {'Canonical Name': 'Usual Severity Vomiting',\n",
       "    'Concept ID': 'C4084768',\n",
       "    'TUIs': ['T170'],\n",
       "    'Score': 1.0},\n",
       "   {'Canonical Name': 'Have Been Vomiting',\n",
       "    'Concept ID': 'C3898969',\n",
       "    'TUIs': ['T170'],\n",
       "    'Score': 1.0}]},\n",
       " {'text': 'hours',\n",
       "  'start': 24,\n",
       "  'end': 25,\n",
       "  'start_char': 141,\n",
       "  'end_char': 146,\n",
       "  'linking_results': [{'Canonical Name': 'Hour',\n",
       "    'Concept ID': 'C0439227',\n",
       "    'TUIs': ['T079'],\n",
       "    'Score': 1.0},\n",
       "   {'Canonical Name': '2½ hours',\n",
       "    'Concept ID': 'C1547059',\n",
       "    'TUIs': ['T079'],\n",
       "    'Score': 1.0},\n",
       "   {'Canonical Name': '/hour',\n",
       "    'Concept ID': 'C0564385',\n",
       "    'TUIs': ['T079'],\n",
       "    'Score': 0.9045183658599854}]},\n",
       " {'text': 'period',\n",
       "  'start': 28,\n",
       "  'end': 29,\n",
       "  'start_char': 160,\n",
       "  'end_char': 166,\n",
       "  'linking_results': [{'Canonical Name': 'per period (qualifier value)',\n",
       "    'Concept ID': 'C0439531',\n",
       "    'TUIs': ['T079'],\n",
       "    'Score': 1.0},\n",
       "   {'Canonical Name': 'Transaction counts and value totals - Period',\n",
       "    'Concept ID': 'C1561960',\n",
       "    'TUIs': ['T081'],\n",
       "    'Score': 1.0},\n",
       "   {'Canonical Name': 'Menstruation',\n",
       "    'Concept ID': 'C0025344',\n",
       "    'TUIs': ['T040'],\n",
       "    'Score': 1.0},\n",
       "   {'Canonical Name': 'Period (temporal qualifier)',\n",
       "    'Concept ID': 'C1948053',\n",
       "    'TUIs': ['T079'],\n",
       "    'Score': 1.0},\n",
       "   {'Canonical Name': 'Clinical Trial Period',\n",
       "    'Concept ID': 'C2347804',\n",
       "    'TUIs': ['T062'],\n",
       "    'Score': 1.0}]},\n",
       " {'text': 'episodes',\n",
       "  'start': 34,\n",
       "  'end': 35,\n",
       "  'start_char': 184,\n",
       "  'end_char': 192,\n",
       "  'linking_results': [{'Canonical Name': 'Episode of',\n",
       "    'Concept ID': 'C0332189',\n",
       "    'TUIs': ['T079'],\n",
       "    'Score': 1.0}]},\n",
       " {'text': 'bilious',\n",
       "  'start': 36,\n",
       "  'end': 37,\n",
       "  'start_char': 196,\n",
       "  'end_char': 203,\n",
       "  'linking_results': []},\n",
       " {'text': 'abdominal pain',\n",
       "  'start': 39,\n",
       "  'end': 41,\n",
       "  'start_char': 217,\n",
       "  'end_char': 231,\n",
       "  'linking_results': [{'Canonical Name': 'Abdominal Pain',\n",
       "    'Concept ID': 'C0000737',\n",
       "    'TUIs': ['T184'],\n",
       "    'Score': 1.0},\n",
       "   {'Canonical Name': 'Abdominal Pain, CTCAE 5',\n",
       "    'Concept ID': 'C4554323',\n",
       "    'TUIs': ['T033'],\n",
       "    'Score': 1.0}]},\n",
       " {'text': 'vomiting',\n",
       "  'start': 43,\n",
       "  'end': 44,\n",
       "  'start_char': 237,\n",
       "  'end_char': 245,\n",
       "  'linking_results': [{'Canonical Name': 'How Often Vomiting',\n",
       "    'Concept ID': 'C4084769',\n",
       "    'TUIs': ['T170'],\n",
       "    'Score': 1.0},\n",
       "   {'Canonical Name': 'How Much Distress Vomiting',\n",
       "    'Concept ID': 'C4084766',\n",
       "    'TUIs': ['T170'],\n",
       "    'Score': 1.0},\n",
       "   {'Canonical Name': 'Vomiting, CTCAE',\n",
       "    'Concept ID': 'C1963281',\n",
       "    'TUIs': ['T033'],\n",
       "    'Score': 1.0},\n",
       "   {'Canonical Name': 'Usual Severity Vomiting',\n",
       "    'Concept ID': 'C4084768',\n",
       "    'TUIs': ['T170'],\n",
       "    'Score': 1.0},\n",
       "   {'Canonical Name': 'Have Been Vomiting',\n",
       "    'Concept ID': 'C3898969',\n",
       "    'TUIs': ['T170'],\n",
       "    'Score': 1.0}]},\n",
       " {'text': 'fatigue',\n",
       "  'start': 47,\n",
       "  'end': 48,\n",
       "  'start_char': 262,\n",
       "  'end_char': 269,\n",
       "  'linking_results': [{'Canonical Name': 'Fatigue',\n",
       "    'Concept ID': 'C0015672',\n",
       "    'TUIs': ['T184'],\n",
       "    'Score': 1.0},\n",
       "   {'Canonical Name': 'Fatigue Subordinate Domain',\n",
       "    'Concept ID': 'C4050243',\n",
       "    'TUIs': ['T170'],\n",
       "    'Score': 1.0},\n",
       "   {'Canonical Name': 'Feel Fatigue',\n",
       "    'Concept ID': 'C3463815',\n",
       "    'TUIs': ['T170'],\n",
       "    'Score': 1.0},\n",
       "   {'Canonical Name': 'Fatigue, CTCAE 5.0',\n",
       "    'Concept ID': 'C4554645',\n",
       "    'TUIs': ['T033'],\n",
       "    'Score': 1.0},\n",
       "   {'Canonical Name': 'No Fatigue',\n",
       "    'Concept ID': 'C3165508',\n",
       "    'TUIs': ['T033'],\n",
       "    'Score': 0.9261878132820129}]}]"
      ]
     },
     "execution_count": 16,
     "metadata": {},
     "output_type": "execute_result"
    }
   ],
   "source": [
    "#Example\n",
    "sent = \"A 5-year-old girl is brought to the emergency department by her mother because of multiple episodes of nausea and vomiting that last about 2 hours. During this period, she has had 6–8 episodes of bilious vomiting and abdominal pain. The vomiting was preceded by fatigue.\"\n",
    "ent_link_results = entity_linking_to_umls(sent, nlp, linker)\n",
    "ent_link_results"
   ]
  },
  {
   "cell_type": "code",
   "execution_count": null,
   "metadata": {
    "id": "vBReb70AmD2w"
   },
   "outputs": [],
   "source": [
    "#Run entity linking to UMLS for all questions\n",
    "def process(input):\n",
    "    nlp, linker = load_entity_linker()\n",
    "    stmts = input\n",
    "    for stmt in tqdm(stmts):\n",
    "        stem = stmt['question']['stem']\n",
    "        stem = stem[:3500]\n",
    "        stmt['question']['stem_ents'] = entity_linking_to_umls(stem, nlp, linker)\n",
    "        for ii, choice in enumerate(stmt['question']['choices']):\n",
    "            text = stmt['question']['choices'][ii]['text']\n",
    "            stmt['question']['choices'][ii]['text_ents'] = entity_linking_to_umls(text, nlp, linker)\n",
    "    return stmts\n",
    "\n",
    "for fname in [\"dev\", \"test\", \"train\"]:\n",
    "    with open(f\"{medqa_root}/statement/{fname}.statement.jsonl\") as fin:\n",
    "        stmts = [json.loads(line) for line in fin]\n",
    "        res = process(stmts)  \n",
    "    with open(f\"{medqa_root}/statement/{fname}.statement.umls_linked.jsonl\", 'w') as fout:\n",
    "        for dic in res:\n",
    "            print (json.dumps(dic), file=fout)"
   ]
  },
  {
   "cell_type": "code",
   "execution_count": null,
   "metadata": {
    "colab": {
     "base_uri": "https://localhost:8080/"
    },
    "id": "_piAu9uLvjVI",
    "outputId": "fef6db8d-e51b-47c6-b14a-39c089591b9c"
   },
   "outputs": [
    {
     "name": "stdout",
     "output_type": "stream",
     "text": [
      "ff\n"
     ]
    }
   ],
   "source": [
    "print('ff')"
   ]
  },
  {
   "cell_type": "code",
   "execution_count": null,
   "metadata": {
    "id": "kmHwe1GcmD2x"
   },
   "outputs": [],
   "source": [
    "# Convert UMLS entity linking to DDB entity linking (our KG)\n",
    "umls_to_ddb = {}\n",
    "with open(f'{repo_root}/data/ddb/ddb_to_umls_cui.txt') as f:\n",
    "    for line in f.readlines()[1:]:\n",
    "        elms = line.split(\"\\t\")\n",
    "        umls_to_ddb[elms[2]] = elms[1]\n",
    "\n",
    "def map_to_ddb(ent_obj):\n",
    "    res = []\n",
    "    for ent_cand in ent_obj['linking_results']:\n",
    "        CUI  = ent_cand['Concept ID']\n",
    "        name = ent_cand['Canonical Name']\n",
    "        if CUI in umls_to_ddb:\n",
    "            ddb_cid = umls_to_ddb[CUI]\n",
    "            res.append((ddb_cid, name))\n",
    "    return res\n",
    "\n",
    "def process(fname):\n",
    "    with open(f\"{medqa_root}/statement/{fname}.statement.umls_linked.jsonl\") as fin:\n",
    "        stmts = [json.loads(line) for line in fin]\n",
    "    with open(f\"{medqa_root}/grounded/{fname}.grounded.jsonl\", 'w') as fout:\n",
    "        for stmt in tqdm(stmts):\n",
    "            sent = stmt['question']['stem']\n",
    "            qc = []\n",
    "            qc_names = []\n",
    "            for ent_obj in stmt['question']['stem_ents']:\n",
    "                res = map_to_ddb(ent_obj)\n",
    "                for elm in res:\n",
    "                    ddb_cid, name = elm\n",
    "                    qc.append(ddb_cid)\n",
    "                    qc_names.append(name)\n",
    "            for cid, choice in enumerate(stmt['question']['choices']):\n",
    "                ans = choice['text']\n",
    "                ac = []\n",
    "                ac_names = []\n",
    "                for ent_obj in choice['text_ents']:\n",
    "                    res = map_to_ddb(ent_obj)\n",
    "                    for elm in res:\n",
    "                        ddb_cid, name = elm\n",
    "                        ac.append(ddb_cid)\n",
    "                        ac_names.append(name)\n",
    "                out = {'sent': sent, 'ans': ans, 'qc': qc, 'qc_names': qc_names, 'ac': ac, 'ac_names': ac_names}\n",
    "                print (json.dumps(out), file=fout)     \n"
   ]
  },
  {
   "cell_type": "markdown",
   "metadata": {
    "id": "1F163RiYmD2z"
   },
   "source": [
    "## Load knowledge graph (KG)"
   ]
  },
  {
   "cell_type": "markdown",
   "metadata": {
    "id": "37qMyihTmD2z"
   },
   "source": [
    "Load our KG, which is based on Disease Database + DrugBank."
   ]
  },
  {
   "cell_type": "code",
   "execution_count": null,
   "metadata": {
    "colab": {
     "base_uri": "https://localhost:8080/"
    },
    "id": "PRI4D-ctmD20",
    "outputId": "d15d2533-a7ba-4178-8a93-3aa6f3c867ad"
   },
   "outputs": [
    {
     "name": "stdout",
     "output_type": "stream",
     "text": [
      "['2858', '1832', '2859', '29576', '34794', '32638', '31211', '28966', '34413', '34396', '4', '36397', '34226', '36443', '33510', '32207', '29831', '29832', '29833', '36326', '2861', '13386', '33038', '34844', '32551', '32625', '32552', '36399', '31819', '35081', '29836', '2866', '11', '34579', '29694', '32376', '31398', '2867', '30190', '29850', '2868', '2869', '2875', '16', '29329', '29332', '29945', '36626', '33155', '34101', '34545', '33683', '30046', '31181', '30819', '14326', '14367', '32854', '36668', '17', '34613', '51759', '33818', '33170', '29151', '29762', '30785', '27084', '29446', '33382', '32010', '32994', '36563', '33795', '14638', '37678', '30908', '55', '34964', '33819', '12384', '31172', '31440', '58', '34922', '62', '30626', '30598', '31195', '29946', '30563', '31789', '30564', '31790', '34572', '3056', '32866', '34205', '64', '31019', '30191', '33755', '33988', '30964', '32952', '34329', '30959', '31551', '69', '32885', '33860', '32088', '33820', '32738', '31726', '33398', '33350', '80', '83', '31257', '14567', '14573', '30761', '87', '31212', '29184', '30543', '30192', '29536', '35079', '29800', '31213', '10765', '14612', '100', '31090', '30965', '31731', '35288', '31831', '30555', '33474', '33420', '33665', '29583', '29444', '32940', '29602', '32742', '31405', '36316', '31294', '35265', '35266', '31487', '32798', '32799', '29438', '31173', '33655', '29186', '29187', '145', '36481', '2339', '36318', '32093', '154', '36483', '36566', '31183', '5227', '29284', '158', '34420', '32879', '32500', '32507', '171', '892', '195', '203', '218', '34520', '34779', '220', '36629', '30603', '32773', '34093', '34657', '32741', '12443', '30918', '36359', '31574', '32632', '243', '31941', '33958', '250', '256', '31038', '36374', '260', '34622', '265', '266', '32668', '33422', '34510', '34114', '36453', '32083', '33305', '29660', '29318', '33765', '31553', '34446', '36405', '6397', '279', '34277', '32988', '32962', '29077', '30955', '30497', '30662', '29046', '30496', '33965', '288', '292', '34718', '30696', '29486', '34190', '295', '29280', '31821', '29183', '35113', '35187', '36486', '33351', '309', '35023', '35029', '31791', '34710', '33817', '31680', '29761', '29442', '313', '28865', '30866', '32479', '31912', '315', '29085', '31761', '14820', '34923', '30096', '35015', '318', '29166', '323', '36515', '34905', '32992', '30673', '3543', '31126', '30851', '29518', '29873', '14701', '34486', '394', '32398', '36472', '32557', '31170', '398', '30685', '34138', '33987', '30193', '31747', '34649', '34054', '30936', '34217', '34671', '30478', '36385', '33357', '31561', '31812', '29048', '29047', '14704', '14717', '29060', '29478', '32458', '402', '409', '29533', '32745', '34955', '956', '30842', '29435', '31140', '29365', '34650', '420', '35197', '32850', '31832', '31199', '31890', '35146', '14765', '430', '31366', '30080', '33774', '34731', '58801', '29298', '32541', '312', '442', '33334', '448', '30194', '434', '453', '32896', '31754', '6067', '34497', '29176', '34968', '31422', '33876', '31792', '33678', '454', '30195', '30890', '30174', '34134', '465', '33595', '8375', '29615', '30196', '475', '486', '34194', '34875', '4048', '31449', '33733', '32856', '490', '493', '34741', '34942', '501', '32181', '33238', '29173', '14836', '14839', '33925', '503', '34444', '31745', '30960', '33373', '31676', '31408', '14843', '29191', '29192', '34876', '30198', '30550', '507', '31584', '36532', '32029', '31760', '14901', '35306', '31805', '512', '29552', '32862', '31785', '33288', '519', '30799', '31793', '30961', '529', '34513', '33447', '31438', '552', '30962', '29955', '572', '14908', '20468', '35242', '30199', '34889', '29584', '32457', '574', '31185', '31184', '31246', '31579', '584', '29918', '588', '30493', '597', '621', '30123', '30200', '34585', '30888', '627', '14930', '14934', '30201', '31175', '34440', '29193', '34740', '29581', '34693', '633', '29871', '29148', '33973', '33458', '29594', '29950', '32099', '34522', '31467', '673', '29613', '29480', '28802', '36491', '15063', '29153', '34840', '36618', '30205', '29194', '33918', '684', '686', '690', '36315', '694', '32943', '700', '41733', '30703', '29545', '34020', '663', '672', '705', '34346', '29805', '36416', '15088', '712', '32589', '31091', '2963', '31343', '32229', '31802', '716', '31421', '31444', '31349', '31541', '33497', '31380', '29496', '32757', '29348', '717', '719', '29568', '14556', '37695', '30083', '33330', '32251', '720', '15112', '723', '32147', '32582', '724', '725', '29646', '30963', '30202', '726', '15117', '40727', '33504', '33478', '728', '29910', '36630', '35125', '29281', '29617', '32048', '31933', '749', '15130', '771', '33156', '30669', '31309', '34421', '33437', '29532', '1203', '31194', '28871', '29293', '775', '33922', '29553', '30432', '13774', '29550', '31610', '31782', '35172', '30958', '34800', '30966', '32452', '31743', '33921', '33824', '33712', '33552', '8975', '32851', '33434', '31017', '34912', '30203', '783', '29697', '33887', '31630', '32831', '33848', '787', '792', '823', '829', '844', '37698', '33968', '30771', '15188', '15189', '29608', '30776', '31675', '35035', '32731', '866', '32036', '31735', '33660', '34399', '870', '32969', '880', '4724', '28875', '29044', '885', '30585', '35269', '32847', '34754', '34647', '888', '32997', '890', '34713', '31580', '32967', '15196', '33219', '35092', '32477', '30534', '34261', '32545', '30546', '32852', '33738', '31132', '31538', '29677', '30204', '34690', '29676', '29355', '33036', '32786', '32808', '897', '34445', '34055', '32491', '899', '29906', '35294', '30652', '29750', '33435', '907', '33827', '30091', '30709', '34041', '35153', '32435', '15235', '30708', '31688', '33283', '15237', '33486', '33220', '31201', '28804', '8080', '34309', '928', '934', '33875', '943', '13926', '34780', '945', '1174', '36438', '946', '29695', '31767', '53761', '949', '950', '15393', '31762', '29780', '952', '31268', '29065', '29064', '969', '985', '29960', '33950', '32877', '29648', '29449', '32678', '36313', '33780', '1021', '35039', '15409', '1025', '34607', '34608', '33133', '33348', '29920', '36518', '33191', '30613', '1039', '32393', '29409', '32771', '4113', '34489', '29962', '30774', '30635', '34707', '1063', '29538', '58796', '1065', '1072', '1075', '1085', '1089', '1090', '1107', '10477', '29503', '30798', '32516', '29802', '1118', '33245', '6158', '1129', '34458', '1131', '32702', '1132', '29429', '58795', '35151', '1141', '35206', '1142', '15503', '222', '28805', '29723', '1150', '33425', '33424', '36623', '32421', '29269', '29270', '29212', '29690', '34716', '33845', '32368', '32976', '1161', '15514', '1173', '32416', '36653', '28801', '34957', '33193', '34404', '36488', '34166', '28803', '32185', '30818', '35063', '39725', '33401', '36598', '36377', '34994', '30800', '57785', '34526', '31794', '29261', '34269', '30547', '1183', '31075', '31585', '35093', '29195', '34962', '32180', '29967', '31586', '29966', '33881', '1577', '1200', '33477', '31632', '12005', '33042', '1209', '33903', '31256', '30206', '15544', '1212', '28806', '29209', '1218', '33656', '29637', '32390', '1224', '33232', '1229', '34284', '31995', '31216', '29196', '31409', '33066', '50757', '30849', '34304', '31609', '33426', '31296', '32697', '36589', '32667', '32672', '33294', '29197', '1231', '7286', '31627', '36478', '30207', '33601', '1246', '29297', '31578', '1249', '32833', '1254', '1264', '29386', '1267', '31287', '33790', '31876', '31169', '29698', '1268', '32758', '35086', '31867', '34417', '34543', '1275', '31891', '30839', '1280', '34742', '29927', '35135', '1285', '32611', '30090', '34998', '32655', '34961', '36314', '1303', '33247', '35129', '34433', '33850', '31833', '32887', '30549', '32378', '32533', '1309', '32780', '36663', '35094', '31229', '30020', '33690', '33226', '1329', '29512', '1341', '33689', '28842', '1344', '8335', '33998', '31319', '30494', '33338', '31587', '36667', '30852', '34238', '34056', '30967', '31795', '31796', '1346', '33293', '32374', '30968', '36511', '32855', '29548', '30208', '33063', '30970', '31813', '30919', '30209', '34237', '30971', '1351', '32716', '34721', '30625', '30972', '34786', '30210', '30973', '33088', '33764', '1358', '32653', '1366', '34758', '31278', '35226', '30173', '31720', '1373', '3087', '29716', '31727', '30976', '31073', '34287', '34529', '29928', '36591', '36327', '30211', '1384', '30495', '32019', '36638', '859', '32964', '34756', '31562', '1389', '36565', '30758', '33604', '30212', '15634', '15639', '33376', '37696', '32607', '1392', '33427', '34310', '32110', '32446', '33687', '33358', '31454', '34969', '33974', '6650', '31611', '36394', '1397', '1400', '32436', '1403', '31887', '29198', '34140', '39727', '1405', '28807', '34820', '30059', '29822', '35228', '1414', '7812', '33644', '29639', '32404', '1416', '33274', '30213', '32633', '1422', '34929', '29969', '30607', '32818', '30980', '29501', '31248', '33516', '32797', '34906', '31923', '33685', '31872', '30125', '1427', '29624', '33377', '30835', '31859', '56779', '33233', '1439', '32725', '1442', '1450', '1455', '33647', '33297', '33298', '25466', '15748', '36353', '29514', '31668', '31701', '1457', '15752', '1460', '1498', '1505', '29304', '29418', '30022', '30024', '1513', '31098', '31379', '15768', '34976', '31492', '33723', '28886', '33321', '31899', '32637', '29282', '1514', '32258', '1517', '1518', '15788', '34122', '15801', '31892', '59812', '34665', '34459', '31445', '1529', '32886', '29152', '34414', '33991', '1531', '32937', '29745', '36657', '35106', '1557', '35111', '33212', '33213', '2811', '36342', '31780', '1559', '15838', '1560', '1569', '33833', '33257', '31267', '29893', '29782', '34769', '34770', '34771', '32777', '33852', '30904', '36351', '35181', '1572', '9266', '32779', '30781', '33381', '35260', '1588', '34595', '34378', '32873', '34008', '35123', '1591', '1598', '1614', '1617', '1595', '1628', '30612', '1630', '15880', '30145', '1733', '1734', '15892', '34196', '1631', '36537', '33431', '35006', '32190', '33416', '33729', '1642', '32221', '57790', '36423', '36398', '36617', '30586', '31563', '31404', '36496', '33089', '36433', '35041', '31815', '30617', '35013', '30977', '31834', '1667', '1669', '35071', '34332', '31714', '30214', '1681', '1006', '1684', '1701', '1704', '31684', '29135', '7616', '1707', '30765', '1713', '1715', '33634', '34151', '29419', '31117', '32666', '1716', '33558', '31999', '31729', '32423', '29360', '1728', '29661', '33652', '30978', '30215', '33969', '31835', '31723', '31836', '16043', '1770', '30992', '33392', '29625', '34813', '33562', '30216', '31797', '29658', '30086', '1782', '1784', '31975', '36529', '1791', '38723', '1813', '31623', '32473', '31393', '33161', '1814', '1816', '30937', '30938', '30986', '33090', '30503', '30982', '30217', '34125', '32539', '33410', '33281', '1819', '1821', '1841', '1847', '1854', '1869', '1872', '1873', '36366', '30824', '32542', '32543', '34885', '30098', '33561', '35127', '28890', '2161', '1876', '16106', '16108', '1886', '16118', '1889', '29307', '34192', '33370', '31390', '30171', '29242', '32248', '34343', '34435', '1896', '29764', '1897', '1901', '1903', '2338', '34315', '30170', '34447', '32924', '30218', '29566', '30219', '30220', '36534', '31657', '30221', '1906', '29944', '31734', '30653', '32459', '33979', '33629', '33725', '33986', '31037', '33419', '30760', '30887', '31260', '1914', '4301', '1924', '35168', '34768', '33919', '30727', '30165', '34428', '1929', '34259', '36418', '34187', '33750', '1950', '32425', '32598', '32881', '36557', '30222', '32606', '33051', '30032', '34090', '35256', '57786', '1961', '3623', '33369', '30981', '34232', '1964', '31612', '37704', '1967', '34872', '1981', '34503', '1984', '30987', '1994', '32135', '30624', '30223', '1996', '34199', '30224', '2003', '32482', '31241', '31335', '33246', '36586', '2020', '29121', '31564', '31953', '36386', '30225', '30175', '34345', '2196', '16149', '2040', '34504', '32151', '2095', '15206', '5895', '2099', '16209', '2114', '30531', '29458', '22804', '31868', '30111', '29216', '30769', '2137', '6374', '29237', '28808', '33758', '34732', '35078', '34568', '36440', '30226', '36602', '29526', '31576', '33825', '31102', '34634', '32535', '32534', '34878', '29672', '29874', '31757', '2145', '31178', '30529', '2150', '2152', '2156', '34246', '31265', '32118', '30227', '32829', '29974', '32585', '30988', '36572', '31889', '2165', '30228', '29864', '2173', '16311', '2179', '33816', '2182', '32439', '33832', '34874', '35010', '31115', '31157', '16345', '35305', '30031', '2184', '32618', '34860', '36484', '45750', '31922', '31695', '53768', '30229', '29976', '29971', '29977', '30891', '30230', '30658', '32768', '30659', '33091', '29975', '30892', '30231', '33200', '31588', '30232', '30233', '33770', '29978', '30234', '30893', '30235', '34236', '31589', '30654', '30655', '30239', '30894', '34921', '29979', '33092', '30929', '30236', '34313', '36358', '29934', '29980', '29981', '34588', '2922', '31590', '29292', '29806', '31641', '32247', '46752', '32523', '36672', '35087', '33409', '31992', '33839', '33662', '2198', '36569', '31277', '34501', '5889', '32366', '30895', '2203', '30896', '2208', '30237', '30491', '30238', '31857', '30054', '2216', '2218', '32874', '36335', '29320', '16403', '2227', '2232', '32234', '2242', '36547', '32021', '58797', '17293', '30850', '34412', '34096', '2247', '35291', '30542', '36620', '31719', '31533', '35189', '31535', '31536', '31537', '35198', '35199', '33514', '34527', '33151', '33093', '30055', '2274', '2278', '2288', '2292', '2300', '2303', '2307', '2309', '2314', '2317', '2320', '2322', '2327', '2335', '30734', '30240', '33985', '31916', '32965', '34057', '31643', '32001', '13415', '6009', '32708', '33262', '5563', '33772', '33814', '33838', '32985', '2344', '34563', '34561', '34564', '34655', '32016', '32233', '2349', '33522', '36583', '2351', '32002', '33784', '29147', '30570', '28809', '31139', '29691', '30744', '2364', '31217', '16589', '4623', '6241', '16537', '10139', '10140', '29052', '29457', '31864', '16601', '31218', '29118', '32213', '32496', '31219', '2365', '28810', '34609', '33210', '33908', '34150', '2384', '30747', '2402', '33239', '31706', '30504', '2405', '2407', '2410', '30241', '29921', '16615', '16620', '2423', '30242', '33432', '30505', '33622', '30994', '31838', '2433', '30243', '30244', '32927', '30245', '2449', '33094', '31837', '32554', '2462', '2486', '31086', '2496', '30897', '30246', '31330', '2505', '2514', '29090', '2520', '2525', '2527', '33385', '2533', '2546', '30185', '29239', '29323', '2549', '32129', '9121', '2553', '2567', '31220', '33799', '32000', '31524', '33798', '36381', '30247', '31811', '29773', '29573', '29774', '32137', '31489', '31399', '34567', '34983', '32527', '34686', '2595', '31490', '2597', '36464', '31483', '29707', '16662', '31882', '2602', '2610', '2613', '32822', '33593', '2614', '33535', '32400', '31303', '31689', '35061', '34098', '30737', '2621', '2625', '29799', '29076', '32305', '32306', '32307', '32308', '32309', '32310', '32311', '32313', '32314', '32315', '32316', '32521', '32317', '32318', '13373', '32696', '32319', '34753', '32321', '32320', '32322', '32323', '32324', '32325', '32326', '32327', '32328', '32329', '32330', '34938', '32331', '36344', '32332', '32333', '32335', '32336', '32337', '36502', '34864', '32338', '13378', '32339', '32340', '32341', '32342', '32343', '32344', '32345', '32265', '32266', '34535', '32267', '32268', '32269', '32347', '32346', '32348', '32349', '33821', '32350', '32351', '32352', '33822', '32353', '32684', '32354', '32355', '34793', '32270', '32271', '32272', '32273', '36576', '34425', '32274', '32275', '32276', '32277', '32278', '32280', '32281', '32282', '32283', '34573', '32284', '32285', '32286', '32287', '32288', '34893', '32289', '32290', '32291', '33173', '32292', '32293', '32656', '32294', '32295', '32296', '32297', '35188', '32298', '32299', '33823', '32657', '32300', '33174', '32301', '32302', '32303', '32304', '32356', '32357', '32358', '32360', '32359', '32361', '32362', '32363', '32364', '32365', '36412', '29283', '2627', '35073', '2633', '33674', '2636', '2641', '2659', '2672', '34523', '33285', '34846', '36548', '2685', '33277', '2704', '33188', '29612', '34275', '29455', '30248', '34106', '29593', '30757', '32125', '30995', '30122', '31122', '32196', '30928', '29479', '53767', '29887', '29375', '33710', '33807', '32122', '30656', '2705', '31777', '33560', '34258', '32178', '31008', '36508', '34848', '29933', '32972', '33633', '30249', '30540', '2708', '2724', '2726', '2729', '2760', '30643', '2764', '29982', '2769', '30250', '33555', '34250', '34048', '34954', '33641', '33308', '30251', '30189', '33869', '2777', '30901', '35149', '2786', '33095', '29604', '29414', '30594', '30252', '30886', '34623', '33384', '33237', '34985', '29741', '2788', '16756', '30996', '30822', '31591', '30674', '30675', '30997', '30608', '34016', '30253', '2791', '31198', '2428', '2797', '29956', '34172', '29991', '2802', '29302', '32133', '32860', '2809', '30998', '31898', '33615', '33616', '32529', '2837', '2826', '35060', '2829', '32713', '31750', '29932', '29158', '33966', '30254', '33632', '2844', '2850', '34528', '29451', '34681', '30292', '31593', '30293', '34730', '34375', '31839', '10145', '29915', '31074', '2876', '29351', '35277', '2882', '32587', '35096', '36459', '2885', '2899', '35120', '32571', '31778', '2907', '32009', '29931', '2919', '32701', '32017', '2934', '32018', '32751', '29622', '58794', '29456', '2938', '2949', '32843', '34442', '36373', '29922', '31249', '35218', '30255', '2584', '30975', '29199', '30898', '31340', '33844', '16914', '34859', '30999', '2959', '33315', '34493', '31400', '29894', '29895', '3876', '3871', '10868', '2964', '2968', '32993', '31134', '2975', '2999', '35280', '35148', '3000', '36674', '36555', '34908', '30061', '34907', '32732', '31801', '31088', '3274', '35055', '3028', '3036', '7384', '34381', '34667', '16101', '29777', '36475', '36476', '32206', '37691', '29776', '31742', '32889', '3042', '3043', '29120', '29058', '3044', '32411', '31284', '34892', '34397', '307', '29754', '29349', '2592', '29607', '30754', '3054', '28811', '32489', '2012', '35299', '37692', '36490', '31730', '45748', '29701', '29702', '29703', '32726', '3048', '33538', '34354', '33580', '34828', '30065', '1778', '29759', '17017', '32925', '29488', '34372', '3061', '35025', '29412', '31214', '29847', '33857', '30844', '32689', '34759', '12425', '34674', '33962', '34519', '33791', '33835', '34474', '30514', '34499', '3067', '3073', '31350', '3080', '30829', '29585', '29586', '29574', '1955', '3083', '29326', '32487', '31998', '29725', '36664', '3094', '17111', '17115', '3101', '33954', '29311', '30591', '31741', '31775', '31880', '34863', '32567', '31939', '31938', '3108', '17117', '17120', '35065', '31286', '3110', '29500', '33143', '29651', '29053', '34206', '3111', '3115', '3118', '32898', '32899', '29900', '56777', '33284', '35268', '30672', '2', '29726', '3120', '12740', '17142', '17143', '30172', '33672', '33302', '32846', '36590', '29925', '17149', '30602', '3137', '3139', '31392', '34851', '34852', '3151', '17207', '34682', '31558', '33532', '33029', '34468', '3153', '34559', '3160', '33485', '33879', '34691', '3164', '17239', '17266', '30915', '3165', '29133', '31993', '3176', '31969', '36584', '34443', '32853', '35009', '35136', '3178', '33877', '30256', '32011', '31000', '33145', '3203', '34538', '13135', '32485', '3207', '59818', '3213', '32217', '3218', '3221', '3224', '30147', '3231', '3233', '3234', '14197', '32074', '32753', '29423', '3235', '29272', '32865', '36594', '3237', '33509', '32698', '33309', '3242', '32680', '6160', '3259', '30817', '29405', '29434', '31351', '3263', '29439', '29171', '30609', '29382', '8595', '32966', '34709', '33781', '33782', '35012', '3280', '17332', '33236', '34569', '30257', '31840', '34353', '34706', '34389', '30103', '33044', '30258', '34735', '30639', '31725', '32857', '30816', '3294', '30885', '3303', '17379', '31331', '3314', '32228', '3321', '34073', '30259', '3333', '31841', '29671', '5991', '30260', '30261', '32408', '33228', '3347', '3374', '35176', '3341', '3382', '3339', '29445', '29210', '3391', '33938', '3396', '34360', '24034', '24024', '30076', '34045', '24048', '32707', '3398', '34296', '29861', '3399', '31654', '3410', '29530', '3416', '58799', '34515', '34566', '35180', '31001', '36312', '30944', '49757', '3430', '3432', '17416', '34223', '33148', '31459', '3436', '3449', '3453', '30107', '34777', '30952', '34280', '3460', '33189', '35236', '29381', '32537', '34197', '56784', '36365', '34210', '29531', '32173', '33623', '33717', '33349', '3472', '3474', '36465', '32495', '3485', '3487', '33096', '3491', '10606', '3498', '31133', '34176', '3517', '34883', '29862', '34689', '28812', '29425', '29711', '3520', '30262', '32817', '17510', '17513', '3536', '36637', '35307', '33602', '3538', '36371', '53760', '17462', '3539', '33769', '29126', '33439', '31002', '3554', '30618', '33039', '17472', '2197', '3559', '3564', '31633', '34600', '34457', '29911', '29357', '29631', '37702', '31221', '3581', '32909', '31222', '31223', '31224', '32595', '3586', '31499', '31799', '30670', '29221', '30644', '34193', '31781', '33905', '30064', '29765', '3597', '31776', '29384', '31601', '32449', '33405', '31348', '17492', '31353', '17499', '3604', '33176', '32481', '3606', '32480', '29985', '34067', '34643', '32154', '33158', '32562', '29794', '32871', '36523', '34986', '34409', '30167', '30657', '30507', '33796', '34672', '3612', '36635', '3614', '30263', '34827', '31003', '29997', '33809', '31850', '34700', '31644', '34094', '31004', '30037', '29156', '31005', '3617', '3620', '31615', '31006', '31007', '29857', '3639', '3646', '3637', '3638', '3649', '3661', '34816', '30057', '33761', '34702', '3709', '29372', '34183', '29062', '3726', '31491', '3739', '29635', '3742', '59813', '33901', '30759', '3751', '33097', '3759', '29678', '29819', '32888', '34128', '33313', '35068', '31842', '30264', '29929', '30265', '3779', '30166', '33576', '30266', '3783', '3787', '30508', '32407', '31332', '32422', '33436', '36551', '29998', '3797', '33135', '36656', '32060', '4932', '33014', '3804', '33573', '31009', '30678', '30267', '34617', '3631', '2847', '30268', '3809', '30916', '34772', '30922', '36450', '33730', '32437', '29923', '33445', '33442', '29818', '35091', '36334', '29817', '35052', '30269', '34390', '3427', '3066', '32453', '29919', '34615', '3827', '31843', '35166', '30271', '34374', '33264', '34227', '3832', '36380', '33912', '33544', '33926', '34213', '29578', '31884', '30272', '35222', '30557', '3122', '30273', '30274', '3941', '29539', '33657', '30920', '33913', '31225', '17746', '17757', '31853', '3840', '32035', '36348', '36349', '30931', '31226', '3847', '29595', '33461', '31149', '3851', '33597', '29398', '805', '34388', '3765', '33407', '34431', '34385', '34855', '34856', '35047', '34562', '32563', '35019', '35273', '33329', '34063', '3861', '3865', '30112', '3869', '17771', '31732', '33500', '34370', '3882', '30275', '34555', '31918', '30934', '31196', '34116', '30650', '32893', '35250', '35196', '3884', '34736', '32223', '3885', '29772', '33556', '30801', '34590', '31078', '3894', '33227', '30589', '33085', '36449', '3896', '53771', '34065', '30935', '30584', '30110', '33811', '32804', '33248', '3898', '30942', '30276', '3925', '33630', '29948', '34074', '3930', '29930', '30277', '31940', '3945', '3947', '29219', '32182', '30278', '32518', '32958', '33001', '31800', '3961', '29546', '3971', '34799', '28813', '17865', '17895', '30810', '35282', '35283', '3982', '32652', '3985', '29149', '3994', '36336', '32956', '31514', '4005', '36601', '4011', '32954', '36393', '36625', '32237', '32005', '36493', '45752', '35209', '33605', '31010', '34058', '31937', '32493', '30279', '4015', '32816', '30789', '34917', '34918', '30105', '4016', '33452', '4017', '31554', '31424', '4021', '17942', '4024', '28364', '32674', '31106', '31600', '31828', '4025', '31931', '33513', '32728', '33499', '18003', '4028', '18027', '32460', '4030', '30559', '18043', '33098', '33829', '4039', '34815', '34995', '34411', '31352', '34410', '32424', '29811', '34557', '4046', '32252', '33229', '32053', '4064', '30943', '4065', '4068', '30884', '30731', '29391', '30597', '35281', '36382', '35046', '29688', '18134', '31988', '4089', '32141', '34402', '4108', '34387', '36622', '31011', '30587', '30883', '36347', '33099', '30280', '34383', '4125', '32872', '18149', '32556', '33837', '30121', '32513', '34974', '35308', '31012', '33600', '36477', '4131', '36321', '34252', '31622', '33910', '4143', '1', '40733', '48754', '34358', '29813', '36494', '18157', '34268', '4153', '4159', '30762', '31543', '4164', '4166', '18193', '4171', '33056', '31250', '36324', '34965', '29071', '29309', '33542', '35261', '36467', '34587', '36403', '34408', '33372', '34403', '53765', '18165', '31634', '32538', '31705', '31704', '32819', '37687', '33100', '31437', '28908', '35309', '4190', '31523', '4200', '32882', '4206', '33137', '36655', '34207', '30856', '32498', '29394', '33380', '9212', '4221', '48753', '4222', '31910', '29236', '4224', '28815', '36678', '4248', '30766', '33914', '35279', '4252', '4263', '4269', '4283', '4291', '30828', '4414', '33635', '4295', '31895', '29483', '4297', '34262', '36350', '4299', '32800', '33271', '32953', '33320', '18249', '30281', '33150', '31592', '34245', '31809', '29785', '33909', '4304', '33383', '4317', '32820', '33396', '12486', '4319', '30695', '4322', '35077', '18256', '35031', '36619', '29643', '4326', '28855', '35103', '33996', '36360', '4328', '32044', '34888', '29427', '32555', '33037', '29452', '56783', '4329', '32789', '33061', '35014', '29388', '31403', '29803', '31394', '4338', '29580', '31929', '29579', '4334', '33564', '34792', '29139', '33002', '4342', '32049', '4345', '4353', '4360', '4366', '32467', '29188', '28817', '31161', '30578', '4375', '4378', '31529', '34635', '34636', '33378', '18327', '34264', '32397', '4381', '34494', '34195', '31635', '32157', '29103', '4409', '49755', '34167', '43748', '30827', '58792', '30073', '29792', '34339', '21555', '39724', '30692', '30282', '4417', '29924', '4420', '30715', '34927', '31909', '32968', '33785', '33440', '32160', '37714', '30089', '4427', '31540', '4428', '4432', '4466', '4438', '29812', '29798', '4439', '32733', '32089', '31378', '4440', '1272', '4443', '4450', '4458', '4461', '29630', '35027', '32427', '32508', '18557', '29454', '29735', '34395', '29540', '31943', '36607', '4476', '31442', '33961', '4482', '4478', '30783', '34453', '35057', '4484', '35156', '4491', '34059', '4496', '32478', '36430', '34797', '30660', '31109', '72', '30035', '34400', '31411', '31502', '31503', '31513', '29856', '18561', '32746', '4512', '34509', '31381', '1324', '30283', '31660', '32047', '30284', '30285', '30515', '34722', '9189', '30286', '31013', '34017', '4529', '32250', '30509', '30664', '33101', '36564', '36552', '4534', '33726', '325', '36662', '34629', '30544', '34331', '30287', '33240', '4540', '30288', '4565', '4568', '32581', '33062', '33214', '35080', '31751', '4577', '33322', '33587', '33960', '30510', '30289', '4582', '32441', '33631', '30290', '33548', '30291', '31245', '34103', '31696', '4589', '32417', '34023', '4593', '36471', '34460', '29406', '34761', '29724', '33102', '34046', '35300', '4604', '33366', '4610', '31156', '33747', '4616', '4620', '31728', '33645', '18612', '18621', '1522', '33268', '4624', '4629', '29700', '31448', '29689', '4630', '18639', '18665', '36561', '36562', '32749', '4638', '35152', '18703', '18706', '18724', '32619', '7247', '31594', '33571', '31413', '4657', '31412', '33069', '9450', '6763', '30751', '33539', '34810', '4660', '4676', '29992', '4678', '12901', '34356', '34832', '32875', '30784', '4688', '33992', '32876', '4690', '32942', '34260', '32973', '4693', '35122', '35121', '31418', '34704', '34829', '34830', '34831', '4730', '1326', '32200', '33300', '58798', '35084', '4717', '32106', '34633', '31318', '4741', '33291', '33335', '31466', '29993', '4745', '31709', '29174', '29636', '34337', '57788', '18832', '4757', '32052', '32076', '37712', '4766', '30294', '32177', '30079', '34999', '31414', '31397', '34708', '4777', '34319', '32143', '32193', '29616', '33706', '4780', '4783', '30036', '31844', '34540', '4786', '33592', '4788', '4793', '33680', '30565', '33070', '29994', '29995', '30295', '30296', '31261', '31110', '30297', '33071', '31595', '33980', '36378', '36513', '31681', '31682', '31655', '31656', '31653', '34767', '34596', '32683', '32957', '33180', '32620', '29889', '4882', '33179', '4889', '33181', '33177', '33178', '33715', '36538', '29951', '30539', '31699', '34294', '4799', '34518', '34511', '30163', '4806', '36387', '4815', '33931', '34979', '34949', '29996', '33175', '36356', '4831', '34293', '31137', '34909', '29909', '32688', '30152', '18992', '4834', '4839', '19011', '4843', '32863', '4847', '30786', '32227', '34203', '33043', '30298', '29990', '32762', '34933', '30056', '33034', '36429', '33253', '33847', '34034', '35267', '37705', '35059', '34696', '29112', '30299', '30676', '31596', '4855', '4858', '30106', '4864', '31845', '34266', '4867', '30511', '32031', '30680', '30687', '30677', '30679', '31014', '4869', '34437', '30681', '29228', '4872', '33060', '4875', '30176', '4877', '30300', '34973', '34168', '30492', '30301', '30302', '30619', '31713', '4879', '35240', '30682', '29986', '29987', '29896', '33406', '34805', '34464', '33467', '33013', '4894', '34603', '4899', '30812', '4901', '4903', '19235', '19238', '34466', '33606', '31370', '31367', '33787', '30917', '31313', '32240', '33642', '31112', '31707', '19173', '4907', '31092', '19186', '4927', '4910', '29591', '32429', '30127', '34182', '31846', '33589', '33190', '4934', '30579', '30303', '30304', '32418', '42734', '30113', '34687', '38724', '31967', '32550', '4938', '32782', '30029', '35248', '4962', '4939', '4957', '4968', '4973', '34060', '32241', '32455', '33851', '29235', '31817', '4977', '49756', '34679', '29310', '29755', '4980', '4998', '33531', '35290', '10034', '31167', '32069', '5001', '30882', '5012', '5003', '29685', '5014', '36531', '32648', '9446', '33550', '31163', '32442', '29471', '34924', '31555', '5031', '32186', '33072', '29835', '1645', '28821', '33617', '30305', '34127', '34448', '30899', '31107', '36392', '5037', '31693', '33888', '5044', '42735', '33046', '33743', '58803', '34235', '34084', '33863', '34265', '36428', '34049', '35167', '34233', '34234', '34482', '5053', '29829', '6314', '30807', '34477', '29842', '5056', '33441', '31435', '46754', '5075', '31847', '30714', '30712', '30169', '33073', '31334', '32775', '33995', '31093', '32226', '5078', '4602', '29854', '32564', '5083', '31532', '33466', '5084', '31152', '33880', '34496', '32008', '32014', '12916', '32644', '31556', '19273', '31636', '31852', '5094', '31475', '5092', '32643', '33278', '5101', '30724', '30725', '31141', '979', '29218', '33890', '5107', '29106', '5110', '5115', '32054', '5122', '33882', '34500', '33637', '9819', '30726', '23596', '19317', '34042', '19367', '33849', '32575', '31155', '34338', '31565', '5124', '32998', '34351', '32929', '32737', '30306', '32921', '31463', '5141', '5153', '32062', '31251', '5155', '30506', '36354', '36660', '25265', '19297', '35131', '33395', '5181', '31581', '35257', '29408', '29404', '33138', '34272', '32736', '31907', '32101', '30728', '30729', '5195', '5208', '34104', '30581', '30582', '34928', '31959', '37716', '33515', '30735', '36364', '31308', '5213', '30730', '5218', '31262', '5220', '32735', '54771', '35050', '4410', '29104', '34517', '30815', '31860', '33359', '5222', '5224', '53764', '36673', '29791', '5234', '34610', '5236', '36647', '32414', '5240', '33873', '30568', '29954', '29448', '31468', '33045', '30006', '30569', '33074', '33075', '36391', '31673', '31559', '30689', '5245', '33012', '30847', '29275', '5252', '34037', '32022', '5253', '5255', '35018', '35144', '5257', '35032', '35126', '32669', '30545', '29606', '29605', '13170', '32918', '31691', '30307', '30053', '33578', '29845', '9056', '32621', '31769', '5267', '29816', '29830', '34229', '33871', '29839', '5270', '30308', '29827', '5275', '5282', '33287', '34423', '5284', '32132', '5296', '29868', '5302', '5303', '5307', '5311', '5314', '5320', '34980', '34981', '34982', '42736', '31085', '35254', '36631', '30309', '5323', '32219', '36325', '56782', '36363', '31667', '5332', '5340', '34531', '31292', '31755', '32146', '5356', '34727', '33651', '33171', '5358', '29633', '31464', '34299', '5361', '33157', '32066', '33153', '33691', '5363', '32492', '34135', '36343', '31515', '5370', '29899', '33162', '32861', '29390', '34914', '31927', '32616', '32176', '5388', '5404', '5405', '5402', '5403', '27116', '34061', '5406', '30007', '31674', '29696', '5324', '5414', '33779', '3888', '14057', '30740', '33569', '5419', '31824', '36495', '32634', '34342', '33343', '34454', '29778', '29160', '17313', '32776', '34039', '32750', '5435', '19570', '5444', '5447', '5450', '114', '32734', '34734', '30310', '30311', '30921', '31901', '5452', '30312', '30313', '5461', '34131', '36541', '36510', '33984', '5465', '33891', '19587', '30601', '5480', '36650', '33026', '34089', '28824', '19601', '34944', '36546', '31372', '19631', '30590', '32917', '29653', '30746', '5481', '5487', '29597', '19635', '5490', '29713', '29693', '29718', '29719', '29771', '5659', '19674', '5526', '5534', '5545', '39723', '5555', '5561', '29376', '29415', '33669', '5570', '33671', '33670', '5578', '30077', '10036', '5581', '19762', '33568', '33583', '29321', '31577', '29350', '33856', '33855', '32649', '5589', '5594', '32594', '31486', '30925', '30683', '5603', '32617', '19769', '33134', '5604', '30948', '5606', '5609', '31015', '5618', '33625', '19785', '32906', '34766', '29484', '13852', '5622', '33020', '5629', '34007', '29373', '31897', '33511', '32941', '5638', '36503', '5649', '32910', '33336', '5671', '19825', '19942', '36320', '5690', '31135', '29319', '35195', '33567', '5701', '29543', '31160', '5702', '30881', '30805', '28826', '31512', '30033', '29249', '30745', '28825', '29596', '31879', '33934', '20008', '31544', '30019', '29541', '34659', '29316', '29544', '30752', '33194', '32192', '5705', '31423', '5719', '29667', '31460', '5726', '32549', '34352', '5728', '32420', '36474', '29097', '18844', '29096', '1735', '36509', '34365', '5757', '31083', '5765', '31082', '5783', '5792', '5794', '5797', '5799', '20061', '31177', '20204', '32063', '5810', '34970', '35221', '34645', '31945', '33355', '35252', '4172', '31321', '36559', '30743', '9303', '34278', '33457', '29067', '5812', '8773', '29294', '33414', '29129', '5815', '2343', '5821', '32870', '32501', '35043', '35045', '35044', '35042', '32096', '11631', '32097', '32610', '32095', '32094', '33207', '29582', '29161', '30777', '5841', '33021', '5857', '5863', '5866', '34247', '31289', '33234', '32261', '31016', '5879', '34886', '33892', '33893', '32104', '33894', '34121', '29116', '30160', '5887', '5892', '33718', '32043', '20279', '5667', '5670', '31827', '33276', '5896', '20298', '5897', '33972', '5901', '20309', '34066', '33429', '31114', '33884', '29560', '33885', '30548', '29669', '31764', '5906', '34334', '29073', '5925', '33159', '32801', '34406', '5938', '32405', '5962', '5963', '5964', '5965', '5966', '31708', '5967', '5968', '29102', '5969', '32990', '32989', '34009', '5970', '5971', '5972', '29601', '35204', '5973', '29657', '31269', '276', '32709', '29610', '5988', '30826', '30932', '32085', '31773', '29853', '36645', '12583', '6012', '6014', '6020', '33646', '33404', '6022', '29333', '32955', '6023', '33140', '33454', '34051', '19797', '6029', '3142', '3144', '31663', '20389', '30180', '32235', '31131', '29988', '6032', '31545', '35008', '32613', '32686', '6060', '6063', '33521', '33520', '34626', '34627', '35133', '58805', '32828', '32499', '31956', '29359', '10704', '31020', '6097', '6111', '31516', '33843', '30790', '6123', '33223', '29914', '30316', '6137', '6140', '29949', '30317', '32576', '33636', '32050', '34380', '31485', '30318', '6145', '29715', '30945', '34549', '6150', '30319', '33136', '29747', '29826', '31076', '29846', '34436', '35220', '29941', '34616', '32212', '1282', '29559', '31021', '29099', '6187', '29127', '30088', '6196', '6220', '32949', '6226', '6227', '34939', '30788', '7208', '32511', '4798', '33955', '6234', '6239', '29572', '30161', '20590', '31686', '6242', '11705', '6252', '20624', '33701', '20632', '6255', '30149', '6259', '35102', '29644', '31101', '6266', '6270', '29849', '29213', '30719', '34088', '32108', '31642', '6280', '29828', '36442', '20710', '6283', '6301', '6309', '34894', '20722', '31322', '24638', '33130', '29674', '29675', '32790', '20760', '20764', '28827', '33481', '33482', '33483', '33484', '7423', '6323', '29328', '6330', '6348', '20886', '31317', '33341', '34853', '6372', '6373', '6388', '33754', '34849', '31118', '20944', '31299', '31324', '20960', '6412', '36376', '34956', '29513', '29614', '32832', '6425', '36352', '29892', '29722', '6426', '6431', '34551', '6443', '21057', '6444', '21064', '34678', '34677', '29810', '6445', '11673', '6465', '29122', '33451', '6469', '32522', '34664', '6483', '6490', '6501', '6503', '6516', '21207', '6522', '31507', '33512', '6534', '35115', '21240', '29907', '21253', '33015', '6539', '6542', '8877', '6558', '6612', '21417', '36615', '30836', '36676', '33994', '53763', '21432', '29217', '34475', '35249', '6640', '33694', '33808', '28828', '34720', '32548', '34946', '32238', '35224', '37718', '6643', '30694', '34581', '32004', '34401', '6646', '33932', '6647', '34022', '31344', '29537', '36451', '35219', '35237', '6653', '36434', '31365', '6660', '6664', '1331', '33826', '33388', '29477', '9441', '29717', '6666', '6673', '31022', '33742', '34282', '6050', '30320', '1353', '6716', '32612', '34752', '31724', '32987', '28830', '31736', '29506', '33064', '30983', '34323', '34790', '34144', '6720', '6722', '6733', '31023', '6736', '29888', '21506', '28831', '34216', '36640', '31878', '33417', '29569', '36612', '20521', '33547', '32003', '6750', '6753', '33949', '31698', '6760', '32759', '34680', '30691', '29662', '21577', '6764', '29600', '35165', '34880', '34267', '29999', '34646', '32651', '34075', '6765', '32170', '34936', '6767', '33076', '30498', '33695', '6784', '31369', '32201', '32236', '36592', '34394', '34695', '28832', '4387', '21627', '28833', '31127', '28834', '33786', '31166', '6791', '6801', '35036', '29440', '6806', '6812', '29556', '6816', '32515', '29626', '33696', '30321', '48752', '36639', '31740', '34546', '6818', '6825', '6680', '6678', '6827', '30067', '6830', '35302', '36489', '6838', '6843', '6845', '33917', '21654', '6682', '35003', '30909', '30939', '6684', '6686', '6688', '33464', '6696', '6698', '6700', '6702', '35000', '6704', '35024', '21657', '6676', '6677', '6847', '6848', '6852', '6853', '30832', '31509', '6854', '29852', '6861', '34298', '33421', '29034', '12214', '30820', '13996', '6880', '2224', '12180', '6870', '1578', '31244', '6883', '6884', '29489', '28835', '6890', '6895', '6900', '7022', '6906', '33895', '29504', '6913', '34248', '29066', '13628', '28836', '17912', '30322', '33915', '6929', '29155', '6933', '30323', '33011', '30324', '30325', '34476', '30326', '33529', '33077', '33010', '33078', '34357', '34524', '30947', '6937', '34915', '30327', '30328', '36396', '33360', '33896', '34270', '29963', '32706', '34611', '6942', '32764', '32970', '6959', '6947', '30329', '36317', '30638', '32406', '36470', '36379', '35276', '59814', '34162', '8695', '33301', '33079', '34225', '30331', '31711', '30332', '29557', '31045', '34198', '33423', '35297', '33553', '12664', '31765', '33312', '6974', '6996', '31202', '34439', '30333', '6998', '30651', '29775', '30330', '7002', '29840', '30334', '29912', '30003', '35194', '31154', '30000', '33154', '7013', '7019', '33805', '35038', '29886', '7033', '40732', '34488', '36463', '36432', '34845', '29273', '36390', '7034', '7035', '32825', '31364', '33368', '31957', '32824', '32263', '32262', '3166', '33022', '33394', '35022', '32202', '7036', '32639', '32939', '7038', '30146', '31626', '7042', '33000', '32410', '33040', '7045', '32469', '29301', '31914', '33739', '29623', '36421', '34027', '33080', '30688', '36338', '21817', '31928', '7047', '31900', '7052', '7067', '9891', '11845', '34393', '31283', '32580', '34040', '32161', '7091', '30335', '30336', '7105', '31391', '33472', '30109', '33365', '7111', '30701', '30038', '36567', '33261', '32028', '7121', '36370', '34544', '36597', '7137', '34120', '30809', '33956', '7144', '32986', '35213', '31972', '7150', '32841', '32842', '29383', '7158', '21855', '32836', '33391', '29502', '3467', '33607', '32961', '32387', '29142', '7161', '21858', '7165', '7167', '33613', '29670', '31753', '7170', '30001', '30337', '29485', '31637', '33698', '33325', '33658', '7178', '31619', '31710', '32778', '33526', '45751', '35286', '34452', '31517', '7181', '29520', '7189', '7197', '29324', '7200', '32907', '33473', '21867', '31947', '33224', '29416', '21873', '32785', '7204', '32947', '7207', '42737', '33470', '29338', '32811', '33198', '29519', '29468', '33803', '32609', '31291', '30081', '35162', '32203', '33275', '31861', '32884', '7211', '31096', '32472', '21885', '32593', '34514', '7233', '28837', '7236', '35278', '32218', '29290', '35062', '34746', '30571', '34584', '33574', '31518', '7238', '7241', '21913', '21915', '34717', '35048', '34913', '29145', '30993', '30177', '34483', '32445', '34897', '34189', '29683', '29668', '31186', '30834', '33859', '32880', '35207', '34300', '35070', '30052', '34899', '34898', '7242', '35107', '7245', '43747', '34748', '31407', '33081', '7249', '31951', '31949', '32635', '34473', '32544', '30005', '34219', '30821', '34363', '31934', '29043', '33751', '34598', '7255', '36542', '7262', '32932', '34582', '53770', '32807', '21935', '7266', '31416', '11200', '34578', '29347', '7271', '29421', '34005', '7272', '30946', '37679', '33951', '36527', '29436', '33700', '32679', '33400', '31274', '31363', '30072', '34384', '34506', '7298', '30989', '34281', '34251', '4707', '7226', '29499', '7307', '4509', '33192', '7340', '7343', '35303', '30338', '7352', '7351', '7358', '7659', '36643', '21980', '7366', '34916', '29757', '29105', '34362', '29170', '29169', '31325', '29172', '31108', '34177', '33970', '33759', '29493', '29374', '7386', '34325', '32059', '34326', '36375', '32087', '32264', '30082', '8478', '7394', '35263', '35215', '7395', '7396', '7399', '7403', '33947', '31597', '29335', '31803', '31950', '7415', '34697', '36482', '36524', '34604', '37688', '32486', '32974', '30339', '31766', '7421', '29751', '34940', '34941', '32504', '7430', '34367', '14140', '30101', '7431', '34026', '33379', '33741', '32396', '33024', '35101', '34479', '29699', '36556', '31240', '30340', '31237', '34173', '7443', '31310', '33222', '31024', '31917', '30668', '31566', '34191', '30562', '29942', '35192', '31814', '33964', '29211', '30341', '32505', '35033', '3800', '35293', '30830', '7445', '32413', '31807', '29254', '31388', '31368', '34283', '32566', '7452', '32214', '7464', '34594', '31441', '33352', '31402', '33490', '34002', '7471', '7474', '34064', '36554', '36528', '7450', '22053', '33393', '22056', '32189', '35004', '7480', '32743', '22069', '35105', '34971', '7484', '33928', '30804', '7487', '33408', '31677', '32503', '34642', '34729', '31481', '7489', '7490', '42742', '34253', '30155', '30066', '7491', '34224', '34967', '2565', '32061', '36408', '30808', '7493', '7496', '31354', '4697', '7602', '7603', '31482', '31450', '34306', '34376', '30342', '33172', '29492', '34480', '7503', '7518', '7546', '22094', '7547', '35190', '31944', '22105', '7565', '7574', '35017', '7576', '31151', '32590', '30969', '34950', '30667', '34032', '7587', '31608', '29875', '31025', '35134', '29525', '29848', '34112', '29565', '29939', '32483', '31752', '30927', '30343', '29953', '31197', '34773', '56775', '33609', '33983', '7589', '36473', '31567', '7591', '7593', '7595', '31952', '7305', '7306', '7596', '3532', '29748', '7597', '29146', '22143', '29091', '7598', '7599', '33724', '32999', '30344', '33374', '32370', '34175', '32677', '35049', '32806', '29336', '32654', '36604', '35227', '36419', '7604', '32448', '34359', '33745', '7607', '22181', '22194', '7651', '34925', '42733', '42738', '7652', '22032', '22035', '7655', '32497', '42739', '31830', '22225', '7665', '7667', '29095', '29093', '7672', '4824', '30803', '34426', '31904', '33460', '32699', '7677', '7678', '7679', '29248', '30530', '29101', '33208', '33778', '31204', '7680', '30345', '33215', '29258', '31961', '37715', '35140', '7683', '7687', '7688', '37708', '7689', '34091', '32920', '29561', '34658', '7690', '21929', '30802', '36517', '32158', '36530', '31275', '35001', '7691', '7692', '32115', '31733', '31018', '34124', '33957', '30346', '30347', '7695', '30348', '34083', '32904', '35175', '34656', '29570', '34279', '7698', '30773', '29128', '34901', '7728', '7740', '7744', '7751', '10071', '30049', '7772', '36372', '7773', '33591', '35089', '31471', '29132', '7776', '7788', '28843', '31230', '7803', '33804', '35200', '33943', '29641', '36610', '33861', '7808', '35095', '34606', '7818', '30877', '35053', '31429', '32922', '35225', '29640', '7820', '30349', '29250', '7826', '34369', '7835', '7842', '29706', '31494', '33296', '7845', '7844', '32748', '7856', '33993', '31806', '31430', '31965', '31964', '32977', '31026', '32026', '30102', '34450', '34798', '22464', '7859', '7861', '7864', '22479', '29649', '22481', '12032', '35173', '34405', '8330', '34809', '34904', '29629', '32915', '32868', '29517', '33411', '30350', '33854', '29708', '34652', '33225', '7890', '30184', '29940', '33734', '34148', '30351', '7901', '30352', '32077', '7903', '31661', '29958', '31027', '30010', '22503', '7907', '31500', '34533', '58800', '30620', '32730', '29459', '30772', '7909', '34147', '7914', '31205', '30178', '10713', '31028', '34818', '34817', '7915', '7923', '31105', '29098', '31962', '7927', '7935', '34076', '32198', '32131', '31519', '36574', '36573', '29507', '32591', '32546', '35289', '22519', '30179', '32070', '506', '34666', '34052', '31787', '34366', '31428', '7943', '32694', '34221', '34640', '32878', '31958', '7947', '34806', '34712', '31206', '29740', '8254', '7962', '34013', '36507', '32830', '31203', '30833', '33362', '31963', '32599', '29229', '30566', '32912', '7965', '32377', '7967', '7968', '7970', '36401', '28838', '8001', '8003', '8008', '29490', '31921', '22543', '8027', '8029', '8034', '22575', '8045', '32006', '8048', '34105', '30551', '33663', '33364', '30353', '30354', '30355', '30356', '36462', '29256', '31616', '34274', '30556', '31968', '34099', '30357', '8052', '8057', '31386', '34869', '30552', '30794', '34749', '29728', '31877', '32138', '8068', '33067', '34097', '36406', '30358', '33953', '32685', '8071', '30359', '8074', '33141', '30360', '32978', '92', '28839', '32116', '33235', '36525', '31669', '29356', '31447', '36659', '29952', '29901', '28954', '31948', '30553', '33886', '8093', '30554', '33082', '8098', '30361', '8100', '30362', '33323', '33324', '8105', '34240', '30880', '30879', '30363', '33326', '32583', '34879', '29200', '33626', '30878', '30365', '29201', '8110', '29837', '34424', '29679', '32787', '32900', '33702', '29984', '30366', '8116', '30367', '30368', '30369', '33361', '34330', '31029', '30370', '34047', '30371', '30513', '8131', '33211', '30372', '31808', '32650', '34737', '30373', '34552', '36500', '29509', '29510', '34580', '30013', '30011', '30374', '31542', '33241', '8152', '31030', '8162', '8165', '32584', '29686', '8172', '34371', '35262', '30375', '8174', '8182', '29843', '33612', '30376', '33927', '32979', '30377', '8185', '30378', '32454', '31495', '33131', '32007', '30379', '35229', '29721', '53766', '34952', '22629', '34782', '40728', '35239', '33603', '31347', '33476', '34290', '8192', '35076', '31081', '22641', '32739', '29411', '33259', '29618', '2955', '8193', '31870', '8199', '32464', '29609', '33536', '29876', '32409', '8204', '8205', '35210', '32388', '34903', '22652', '30380', '36621', '34321', '7931', '36646', '30950', '34145', '8207', '8218', '34586', '31355', '31431', '29443', '31162', '8215', '32781', '8222', '29494', '33933', '30381', '8228', '31925', '33874', '31031', '30671', '8230', '8231', '8237', '33083', '35147', '35074', '32623', '33254', '36383', '30017', '29', '28857', '31672', '8244', '8251', '32071', '29824', '34881', '37686', '34368', '37685', '36447', '34764', '28840', '35161', '58807', '34111', '36460', '34419', '29535', '30085', '29989', '8275', '8303', '8288', '8310', '30941', '33310', '8312', '8314', '29266', '35285', '30560', '32033', '8320', '31462', '31978', '8327', '8328', '30500', '33735', '54774', '42745', '31979', '31981', '35208', '30382', '8337', '31478', '8341', '29821', '35271', '35272', '30684', '29246', '32600', '32183', '8342', '29592', '33916', '32046', '32391', '8344', '32438', '32440', '33756', '31168', '31984', '31646', '29083', '22713', '8346', '34220', '29687', '22725', '33183', '33363', '1589', '31493', '33260', '32113', '30383', '33865', '33789', '8347', '8351', '30445', '8356', '36651', '33084', '34599', '34418', '33800', '11908', '8358', '8374', '31501', '32209', '29337', '32975', '31333', '54773', '30846', '30512', '29789', '8384', '36613', '34215', '32426', '29801', '30159', '3266', '29175', '29378', '34560', '32693', '34214', '34637', '34498', '34495', '29179', '8389', '35212', '35030', '31759', '7438', '22784', '31339', '29692', '31425', '30713', '33585', '31385', '32892', '8390', '33867', '31111', '32092', '8393', '34641', '7971', '7984', '7991', '30716', '32403', '31336', '33342', '7387', '34837', '36413', '8397', '32682', '8412', '33699', '8441', '8449', '8459', '33167', '31032', '34102', '32211', '30384', '32810', '34036', '15141', '31550', '31694', '29472', '35251', '33661', '22832', '32891', '31977', '29650', '31911', '22895', '8460', '8472', '33205', '29182', '8476', '31989', '31258', '33202', '33203', '8512', '29180', '8510', '31259', '36487', '8515', '8568', '32032', '33204', '8573', '33491', '31461', '8575', '34943', '36415', '8603', '29461', '8604', '8616', '32164', '8628', '36417', '22984', '8662', '33182', '29588', '8664', '8569', '8716', '23053', '34948', '23059', '31530', '32948', '8723', '34719', '8729', '34301', '29473', '8732', '34092', '34951', '23079', '8736', '34011', '33501', '8739', '31983', '33545', '32536', '8766', '30736', '36671', '31527', '32596', '30162', '29823', '29720', '31971', '30385', '29884', '33147', '29767', '8768', '33047', '33160', '30386', '34432', '8770', '31033', '34811', '33295', '23092', '29744', '34638', '8772', '35223', '30387', '36600', '8777', '31034', '31848', '36333', '8788', '36457', '8790', '33668', '32023', '8791', '32149', '33471', '30953', '8795', '23119', '8798', '29935', '34110', '34619', '30047', '8801', '34335', '8807', '29131', '34990', '8814', '32257', '33505', '33206', '31035', '31886', '8817', '35069', '32560', '3957', '28892', '31996', '8828', '36466', '23245', '23260', '23275', '30768', '34467', '8833', '31119', '31434', '33103', '30388', '31976', '30043', '29659', '8834', '8847', '32553', '34109', '30118', '8863', '31991', '33448', '33649', '8868', '33462', '33767', '34508', '8870', '8881', '31774', '34344', '28841', '28959', '8888', '34571', '34204', '36599', '8896', '8902', '34340', '11346', '34819', '29820', '8905', '36652', '33579', '31443', '8922', '37710', '30791', '29936', '36339', '32592', '33581', '8926', '31264', '33713', '8935', '31497', '32809', '35160', '44748', '32117', '23371', '8937', '8960', '32244', '30837', '32056', '32055', '8968', '28844', '30876', '34743', '29470', '31818', '31534', '8993', '32468', '33967', '30574', '33428', '34670', '8994', '34871', '29516', '8995', '30100', '8996', '31382', '29809', '32588', '52759', '32729', '8997', '29571', '58808', '36670', '31749', '29973', '32027', '9002', '30095', '35072', '9005', '30389', '31658', '9007', '31549', '29202', '34341', '33390', '33763', '9027', '33104', '32375', '32761', '32395', '33087', '23440', '34209', '9035', '34077', '32720', '30008', '30875', '35158', '30874', '36340', '30911', '23444', '36580', '30748', '30009', '32767', '32239', '29567', '9037', '30600', '9041', '37680', '9043', '30873', '12121', '30872', '31670', '30390', '9052', '29508', '33736', '35233', '29965', '53762', '32995', '59817', '9058', '34745', '31415', '29379', '9062', '30854', '30871', '29262', '32760', '33314', '30645', '9065', '33290', '33289', '36501', '34692', '33282', '31582', '37706', '29620', '9086', '30831', '29094', '30575', '33119', '33963', '34286', '29189', '33618', '30391', '31207', '30870', '29938', '34285', '30181', '31208', '29144', '9089', '32663', '32433', '34322', '33166', '32670', '31165', '34966', '32636', '29964', '30779', '33450', '36658', '23468', '33783', '32784', '30392', '34129', '36550', '34542', '33371', '33703', '36585', '32367', '9094', '28846', '33242', '23470', '9096', '9099', '34377', '36520', '33939', '36504', '35216', '33433', '33766', '28847', '9135', '29334', '33413', '32631', '34802', '35116', '34532', '34996', '36346', '36644', '32540', '29164', '34069', '29738', '30796', '32020', '29162', '29163', '33332', '34115', '32980', '34589', '34992', '9143', '32597', '29869', '32705', '34989', '32249', '32246', '32945', '34988', '9148', '29230', '9150', '9161', '9168', '9177', '9182', '33303', '29564', '34605', '30393', '32690', '33709', '35171', '35132', '33878', '32222', '33688', '31865', '9192', '36357', '36558', '34314', '9196', '34728', '29432', '9201', '30700', '29450', '9202', '34632', '23641', '9208', '32769', '32827', '36311', '31568', '33596', '33105', '30848', '32447', '47752', '32385', '32072', '36362', '4836', '32676', '9214', '34512', '23647', '31095', '32608', '30124', '9218', '9231', '32084', '29441', '9236', '31465', '33353', '32039', '30722', '3037', '9237', '9240', '29481', '36553', '31783', '33006', '29303', '31293', '31946', '31930', '32162', '30394', '31936', '30797', '31932', '9241', '31338', '2860', '31311', '9242', '31315', '29743', '34297', '31659', '33590', '22751', '31980', '9249', '34373', '34070', '9252', '9256', '34945', '33777', '36332', '9262', '33577', '12263', '9271', '35002', '23879', '36322', '29654', '36485', '31671', '9286', '29766', '35056', '29898', '32664', '9288', '9297', '28848', '33744', '31569', '9299', '36458', '29380', '23888', '29727', '29087', '29666', '30991', '35159', '30720', '33858', '30721', '33068', '9313', '9320', '9328', '34854', '34033', '9337', '31104', '31985', '32673', '9342', '32675', '31488', '9351', '9367', '33258', '33132', '29870', '29070', '9377', '30071', '33946', '9385', '32662', '9392', '15823', '35051', '9401', '33446', '33017', '33018', '23995', '29289', '32024', '36582', '34644', '9418', '9433', '32038', '31120', '13431', '31180', '31702', '33619', '30395', '9454', '31312', '33753', '30396', '30397', '31046', '32890', '29937', '33611', '34288', '31678', '30704', '30516', '31036', '33940', '34930', '31341', '30869', '34123', '34997', '34158', '30045', '30398', '9461', '33620', '30956', '30399', '30400', '33982', '31457', '34241', '30517', '34243', '31788', '9465', '9472', '33883', '37709', '9474', '9475', '31406', '9476', '29253', '28969', '9477', '31990', '29069', '32794', '32826', '12913', '36384', '56781', '33773', '9479', '9500', '9503', '32098', '35234', '34018', '9508', '34347', '31171', '32013', '24070', '24075', '34044', '31973', '35088', '32042', '32839', '29804', '33003', '29231', '58810', '35026', '30197', '32415', '33920', '31266', '31894', '9510', '9528', '9530', '9537', '24092', '9539', '9559', '30026', '30401', '9568', '24135', '30062', '30913', '34305', '29081', '34858', '33906', '30640', '29462', '31607', '32724', '34663', '33981', '9570', '9572', '9579', '9580', '9583', '32086', '9586', '32565', '34593', '9587', '36533', '29729', '9600', '29815', '24168', '30706', '33480', '30756', '30631', '32867', '9611', '6706', '33106', '31209', '32105', '33977', '30707', '33489', '2064', '9613', '9614', '9615', '9622', '33541', '9624', '9626', '9628', '29763', '36627', '9636', '9638', '32788', '9643', '24182', '33443', '31314', '34558', '32982', '34804', '36361', '33714', '9651', '24212', '34683', '30402', '9663', '9664', '9666', '24248', '9670', '9677', '9679', '34685', '30782', '32381', '9688', '32382', '9695', '32774', '30151', '31300', '32166', '9697', '32392', '4442', '36448', '35058', '31621', '24273', '35258', '9704', '33163', '9706', '32067', '29244', '32815', '24276', '9720', '32401', '36455', '43746', '24316', '34796', '33551', '29154', '32159', '29402', '29401', '9725', '29587', '31924', '34014', '35054', '34896', '40730', '32065', '34620', '29515', '29467', '37694', '9730', '33139', '33144', '9739', '9748', '29598', '29627', '35235', '32971', '31253', '29983', '9760', '5836', '31179', '9764', '30404', '31039', '9771', '33107', '9775', '9793', '31040', '31041', '29555', '9802', '29392', '24342', '30518', '32984', '9807', '30315', '33345', '9814', '33834', '33265', '31548', '30405', '34086', '31647', '30406', '9816', '30407', '33108', '9817', '30408', '33057', '34239', '31863', '34803', '35100', '32371', '34935', '33862', '30094', '34068', '2128', '9820', '9827', '32510', '32430', '34575', '31804', '32490', '28849', '24405', '30501', '9833', '33682', '33216', '36388', '31994', '29362', '31371', '31304', '29366', '24467', '31520', '29059', '29243', '9849', '24077', '9850', '31142', '30532', '19110', '34382', '273', '9860', '9868', '36633', '30622', '9870', '33648', '32646', '30409', '35287', '34911', '34963', '33868', '33386', '9889', '34087', '33524', '24563', '4852', '29758', '31881', '9896', '33563', '32641', '9905', '29308', '32145', '34139', '9912', '33640', '31496', '29431', '30693', '9922', '24580', '34078', '9929', '31606', '30410', '30868', '31236', '9933', '34738', '31455', '30558', '30536', '30411', '33318', '9947', '31810', '9954', '34141', '30623', '9961', '29943', '34316', '31648', '30412', '9965', '31763', '9987', '9970', '33853', '29590', '30186', '30413', '33165', '9991', '33463', '10019', '32484', '31510', '30843', '10020', '34143', '10023', '32224', '30414', '32123', '29834', '35298', '33186', '30074', '35244', '34654', '34653', '36614', '30910', '30840', '31147', '24599', '31272', '24609', '30078', '33608', '10028', '29463', '29287', '10031', '34684', '31820', '31395', '36648', '29704', '32532', '32243', '32171', '33889', '29295', '29413', '30778', '31301', '58812', '31362', '8333', '29902', '34862', '29682', '10041', '24683', '32128', '31128', '36514', '32187', '32506', '30415', '34079', '33317', '33628', '30416', '10044', '34505', '10046', '13270', '30811', '32913', '30417', '31697', '34747', '30014', '33397', '30418', '34170', '33897', '31043', '30519', '31717', '33109', '30661', '31829', '30867', '31456', '33110', '30099', '33111', '33112', '33005', '33598', '29917', '33113', '36545', '31346', '34977', '33185', '32130', '10049', '10053', '31121', '24698', '32814', '29305', '30902', '32078', '35119', '10077', '10090', '10091', '10094', '10098', '40', '29714', '10107', '29858', '30187', '32722', '10114', '29652', '32431', '31721', '31103', '33528', '32432', '29203', '30630', '33692', '33331', '33565', '31427', '31426', '10118', '29157', '32153', '34451', '1356', '29159', '10120', '34639', '33267', '59823', '36587', '31974', '34699', '31822', '10122', '10131', '29420', '29361', '34416', '35177', '10134', '10141', '31855', '30912', '31746', '10160', '29460', '10166', '31511', '10195', '35118', '29257', '29226', '10207', '36560', '10208', '33209', '37681', '31123', '31679', '58804', '34866', '10209', '29296', '32139', '36579', '10220', '33244', '10248', '10261', '10262', '10280', '33340', '10285', '10295', '10302', '24853', '10318', '34429', '30580', '31583', '33527', '30520', '10319', '33975', '30030', '10327', '10331', '10343', '30930', '34895', '34130', '7880', '30825', '33492', '29453', '34890', '30084', '32864', '34934', '30419', '10369', '11049', '34847', '35155', '10373', '35138', '30723', '32526', '34842', '34785', '33503', '34795', '31649', '34765', '31044', '31356', '34839', '34838', '30592', '10376', '33653', '10384', '10388', '33495', '34624', '31453', '32938', '33488', '10444', '34455', '10449', '10460', '34137', '31271', '31227', '5103', '10465', '10467', '10417', '10424', '34836', '10425', '10439', '10440', '34149', '10441', '34441', '29306', '34456', '34154', '33846', '10470', '30420', '36456', '34877', '10471', '10472', '6926', '27933', '27934', '10475', '34612', '36665', '33344', '33978', '29913', '32923', '33711', '56785', '10478', '10479', '10481', '34648', '34791', '10487', '31047', '33201', '30521', '33937', '34705', '29746', '30621', '30092', '10488', '34576', '36570', '10519', '31048', '33727', '10521', '10494', '32903', '33731', '10545', '10512', '31826', '32102', '10589', '10600', '32412', '10513', '34739', '31200', '10605', '11950', '29647', '34324', '31279', '25147', '34181', '25148', '36431', '10609', '10611', '3589', '1145', '10615', '30780', '10629', '10634', '33904', '32041', '29150', '36404', '10636', '10638', '10643', '29054', '4522', '10657', '31470', '30604', '13727', '25165', '32614', '34947', '10664', '32444', '10667', '10672', '30421', '10685', '10689', '25171', '10701', '33346', '34062', '31692', '10707', '30422', '34789', '29354', '36568', '29491', '33582', '29124', '34661', '29084', '34834', '34835', '10718', '34694', '33768', '10723', '10729', '10733', '10735', '29838', '31768', '34171', '30423', '30424', '35238', '31436', '30425', '34472', '10746', '31049', '31547', '32119', '29859', '29673', '29904', '31239', '10748', '29399', '30426', '10751', '35241', '36461', '32928', '30427', '10771', '35142', '36539', '25284', '10780', '10797', '10791', '10792', '10801', '30428', '29665', '35128', '25294', '31665', '10807', '35037', '35182', '10811', '34763', '10814', '25320', '10818', '30070', '30522', '32914', '31700', '30641', '33989', '28851', '30429', '31690', '32040', '10825', '29475', '11687', '32111', '31089', '31662', '32152', '25363', '30154', '32934', '32766', '35020', '30711', '34291', '10826', '10829', '32045', '29264', '30004', '31302', '31373', '59819', '32184', '29225', '32919', '32242', '29220', '10835', '10851', '32845', '31383', '32981', '2820', '10854', '31498', '33027', '32601', '10871', '31360', '32661', '29783', '33537', '32148', '32509', '31683', '30742', '31849', '2375', '36519', '31396', '10895', '28852', '10916', '10919', '10921', '10926', '25480', '25485', '33902', '34218', '33028', '29642', '32579', '10932', '30767', '35154', '34470', '10940', '10949', '10956', '10988', '10989', '7650', '32901', '10998', '32488', '30749', '33412', '36409', '11017', '32120', '32578', '34574', '30974', '11014', '11025', '34100', '29367', '25602', '32434', '13529', '11040', '32530', '11041', '11042', '32402', '25614', '31744', '8243', '29063', '11044', '34932', '25619', '31387', '34463', '33929', '33339', '32813', '25640', '36609', '29255', '11052', '32372', '29068', '29227', '11060', '33788', '11064', '35112', '29385', '29474', '29957', '11068', '31050', '18924', '11080', '30012', '36389', '34597', '34502', '30430', '11081', '29291', '10', '42740', '33584', '36395', '10832', '29865', '31825', '7378', '30793', '30060', '36444', '36446', '11090', '34256', '25769', '11093', '11102', '11103', '11105', '11104', '29057', '31051', '33840', '33588', '30646', '30588', '30923', '33621', '30431', '31052', '33549', '11106', '32715', '11124', '29779', '11141', '33004', '30040', '31235', '11148', '30611', '36498', '35164', '34478', '29769', '54', '29521', '29522', '32926', '35243', '33058', '11155', '34449', '36571', '34539', '32531', '34987', '25810', '5226', '36632', '29749', '33704', '34407', '30853', '34012', '29863', '32628', '34038', '11176', '35292', '34021', '29916', '31650', '32255', '33114', '31432', '31628', '34465', '58809', '7044', '34547', '33337', '33115', '33199', '25831', '33757', '32231', '30865', '32253', '56780', '35137', '32783', '11186', '25933', '31617', '29524', '31375', '31955', '30576', '32494', '11189', '32573', '11193', '31285', '9836', '25988', '11855', '10703', '30021', '30023', '16940', '32256', '11205', '12635', '11209', '29645', '11213', '34565', '35108', '33802', '32572', '33402', '11223', '1547', '29599', '29770', '31722', '32577', '30949', '34244', '32528', '11245', '11252', '36407', '34302', '11255', '26026', '26030', '36581', '11258', '26035', '26039', '26060', '11263', '11288', '29130', '32805', '36369', '11337', '33479', '33456', '11357', '35178', '11359', '11368', '33356', '26184', '26200', '32394', '32195', '30117', '11373', '31342', '11375', '34492', '33304', '36505', '30733', '95', '406', '28853', '6087', '6623', '29214', '33086', '11387', '31651', '29476', '11390', '34303', '11391', '11396', '34415', '30538', '30104', '35259', '32740', '11406', '34972', '36439', '11410', '11417', '29371', '29369', '31281', '26316', '10745', '11416', '31273', '31276', '11421', '42741', '11429', '11434', '33184', '29563', '32603', '32604', '34887', '34031', '11438', '11442', '11445', '11455', '11461', '29908', '52760', '30120', '37719', '34462', '34808', '33152', '11463', '29447', '37693', '11472', '11485', '29712', '11487', '11506', '35201', '11545', '26380', '31327', '31328', '11547', '33907', '34984', '31410', '33399', '33793', '33794', '37711', '33911', '32225', '11553', '32568', '36596', '11561', '29684', '32721', '32057', '32208', '33146', '11563', '35193', '30838', '32167', '30763', '11590', '30069', '32144', '11598', '11603', '31639', '31638', '32558', '31094', '11620', '36410', '11619', '11623', '33506', '26416', '26423', '31337', '31477', '34554', '34755', '11645', '30433', '31053', '34132', '33749', '36479', '34711', '35150', '35211', '30857', '37713', '35304', '58793', '29947', '11653', '30903', '31784', '31970', '30434', '11657', '32627', '30435', '34625', '30126', '29276', '30615', '36577', '31451', '31739', '32727', '29760', '31130', '30940', '30813', '32124', '36435', '33116', '32474', '33263', '11661', '33487', '34812', '34631', '58791', '30097', '31054', '96', '30647', '29185', '29866', '31446', '32747', '32756', '32230', '11667', '29370', '33815', '29891', '34178', '11671', '32090', '32719', '31758', '31613', '11719', '11729', '11743', '29344', '37721', '34211', '36578', '29322', '33465', '34255', '34760', '34311', '11748', '32629', '32626', '35021', '31902', '31748', '26498', '33942', '32443', '33217', '11754', '31640', '36420', '11755', '34163', '34422', '29331', '36506', '32763', '11756', '35028', '29730', '30864', '30957', '35034', '31469', '29363', '31071', '31935', '11763', '11765', '33299', '33870', '33218', '11775', '28997', '29223', '33327', '31295', '36634', '36492', '32075', '33557', '29279', '29469', '32983', '34660', '29177', '31685', '30718', '33266', '34534', '30119', '30863', '33812', '11797', '11841', '29841', '31869', '46753', '36636', '35274', '35275', '34230', '34775', '31823', '33251', '32645', '33575', '36411', '29032', '33306', '30753', '31504', '33016', '32647', '30058', '32897', '32570', '11856', '34541', '11875', '11882', '33031', '33444', '11890', '34050', '32386', '31345', '32687', '32840', '36588', '32470', '32091', '31361', '31401', '11898', '26541', '34867', '30764', '31420', '29426', '32109', '26545', '34434', '11906', '26553', '31715', '31417', '33740', '11910', '32142', '36437', '11911', '31625', '33117', '30436', '11916', '29055', '11917', '29088', '36368', '32660', '32659', '33517', '33518', '43745', '11927', '11932', '11941', '34257', '35141', '30605', '32996', '45749', '34614', '37690', '32525', '32205', '32916', '31531', '33418', '36522', '11945', '11948', '11954', '34521', '30108', '31664', '2874', '29285', '11958', '32079', '32080', '32812', '34361', '34525', '29523', '11960', '36605', '33468', '31718', '31770', '33049', '35202', '11968', '31233', '30573', '30044', '33899', '32197', '32112', '33050', '34553', '29317', '33389', '30018', '30015', '25309', '11970', '34958', '33650', '36536', '30775', '11980', '32835', '11978', '36603', '33728', '31055', '26646', '26651', '11986', '6834', '27130', '34350', '472', '11998', '36422', '32220', '34289', '29314', '29312', '29313', '29315', '29119', '12013', '12026', '31599', '34355', '32791', '32793', '32792', '32795', '18756', '30068', '12036', '31231', '26724', '32155', '11894', '31433', '12042', '12050', '33732', '12058', '29377', '29364', '31084', '30924', '12155', '12066', '29528', '29527', '29529', '12069', '29784', '36414', '12110', '12116', '29125', '12117', '34668', '35295', '31056', '29790', '32068', '30926', '29407', '32476', '32718', '35231', '30437', '34870', '7580', '30690', '32640', '12128', '30438', '32204', '29325', '34662', '29628', '34592', '33559', '30770', '12134', '31419', '29251', '32260', '32908', '12135', '12136', '57791', '34873', '30697', '32714', '12148', '34212', '33936', '29796', '29241', '29885', '30051', '29396', '29542', '34725', '12168', '35183', '33273', '26838', '26839', '26861', '29397', '12169', '12181', '36642', '36330', '26877', '12182', '29277', '13400', '12185', '12190', '26907', '12192', '12193', '12205', '26914', '34715', '31883', '31851', '12219', '29393', '57787', '12223', '31737', '33367', '12228', '36427', '29734', '29733', '12257', '32710', '12260', '35186', '30439', '30440', '30441', '30442', '31652', '31077', '30443', '30444', '27939', '30739', '27951', '30446', '29238', '32772', '34698', '30523', '31079', '30447', '30448', '31080', '40729', '34778', '35232', '31472', '36425', '34327', '29575', '33746', '33675', '36661', '12273', '33494', '12277', '36323', '36426', '34000', '34487', '30168', '35214', '32844', '12281', '29134', '9416', '33924', '34169', '34507', '30561', '32210', '35085', '20872', '34744', '30449', '26978', '31243', '34228', '12289', '34822', '34821', '34823', '34824', '34825', '33250', '12297', '33438', '9016', '12299', '12302', '12306', '1155', '12327', '29466', '29086', '32911', '12315', '34537', '35230', '35143', '34669', '31116', '34263', '12339', '34953', '33280', '33659', '32803', '12348', '29807', '12356', '12365', '12369', '12375', '32796', '27076', '31557', '27077', '35011', '35247', '29410', '33519', '12318', '12322', '33540', '34165', '12323', '33033', '33971', '31263', '29797', '31521', '31875', '34364', '12385', '29577', '30042', '29860', '12389', '12390', '58806', '34118', '29205', '12391', '29437', '13187', '12396', '12411', '12414', '31282', '12415', '12423', '29808', '29786', '33508', '31854', '33041', '34254', '33035', '29327', '12428', '34295', '12430', '30990', '36345', '31242', '12445', '27158', '29709', '34826', '27167', '36329', '29165', '12475', '32712', '30717', '31906', '12507', '12481', '12490', '33164', '29368', '12494', '33197', '34025', '34010', '12523', '12530', '30637', '30041', '12533', '33008', '12540', '30183', '12554', '12550', '30027', '30028', '12556', '27190', '12559', '34119', '31065', '32946', '33030', '12568', '31357', '12572', '32471', '12591', '30792', '12597', '12602', '36549', '31525', '34349', '12585', '31377', '29082', '12587', '31138', '12614', '34807', '29638', '12621', '12622', '31280', '12623', '32848', '12627', '32905', '12628', '30450', '29825', '34379', '34781', '29972', '34570', '29844', '33944', '30914', '11849', '29736', '12633', '36367', '30451', '34583', '12641', '31786', '30984', '34146', '33737', '30524', '33243', '30452', '30525', '30453', '30526', '33752', '30454', '29926', '33667', '31058', '34080', '30527', '12660', '30455', '34185', '35169', '29551', '29482', '32168', '36521', '12642', '34188', '12668', '12683', '30862', '34179', '34157', '33118', '12689', '34003', '34993', '12692', '34071', '12702', '12711', '32140', '30595', '30710', '9406', '34307', '19291', '35067', '35066', '12718', '31059', '30861', '10392', '29756', '32752', '36355', '36331', '12719', '30738', '12727', '33941', '32723', '29245', '31480', '35170', '12732', '12734', '30535', '32681', '12736', '28856', '27303', '29330', '32520', '32519', '31620', '55774', '33801', '36516', '37707', '29903', '31508', '34577', '29890', '33019', '12744', '12764', '32126', '31358', '12769', '33054', '12782', '12845', '12870', '12871', '12872', '29061', '32858', '30456', '12873', '29430', '32559', '34043', '35109', '30634', '34784', '56778', '31228', '12879', '33976', '33195', '54772', '34249', '34117', '34095', '35064', '36454', '29395', '27359', '12892', '12898', '30951', '35217', '34271', '37700', '34673', '2619', '34601', '12909', '37717', '34328', '32082', '37723', '31506', '32754', '33721', '32025', '34676', '33594', '35016', '27369', '36675', '32704', '34490', '32895', '34884', '32215', '36424', '30610', '33256', '29795', '31072', '36328', '12925', '34438', '36624', '40731', '33566', '35310', '35139', '32517', '32194', '30900', '36400', '33498', '27395', '34978', '34787', '34312', '33120', '30648', '12926', '34919', '36595', '31738', '29781', '34186', '33121', '30115', '12938', '29433', '12934', '34348', '31624', '27419', '12949', '31254', '32963', '12875', '30457', '12950', '31573', '31136', '30567', '31862', '32384', '27426', '12952', '30499', '12957', '29970', '31060', '12959', '35104', '36628', '12962', '33142', '32502', '29056', '33748', '34926', '34318', '34688', '35191', '12966', '27460', '12975', '12984', '30458', '12988', '27468', '27477', '30933', '30663', '29143', '34471', '34469', '12998', '30459', '29562', '34621', '31528', '31061', '33610', '31148', '34703', '33719', '37699', '13002', '13005', '13009', '29403', '33328', '59820', '31099', '31307', '27381', '13030', '33122', '13032', '14107', '36445', '31942', '34841', '34081', '29045', '30698', '32134', '30702', '30460', '29259', '33525', '29206', '34427', '30114', '13034', '29534', '30461', '13037', '13038', '29400', '13039', '34107', '13041', '30462', '26955', '34174', '32514', '1762', '27522', '35157', '27591', '32150', '31153', '30537', '29080', '13043', '29424', '34750', '13045', '36543', '37697', '13052', '32172', '32169', '33900', '35184', '33023', '31288', '33221', '34516', '36677', '13067', '33123', '33570', '13070', '13071', '13075', '27492', '27498', '51758', '30148', '13089', '13091', '13095', '31484', '13100', '31987', '35075', '13102', '33459', '30628', '32030', '32615', '13104', '33930', '33923', '30841', '29465', '34931', '30016', '29274', '31779', '13106', '13107', '33124', '34108', '13112', '33292', '36654', '34430', '33676', '31068', '13114', '34006', '13117', '29138', '29140', '32462', '32450', '13122', '33948', '13125', '31605', '27662', '33149', '30985', '32121', '34336', '36441', '33125', '33059', '51757', '30039', '42743', '36402', '34208', '13133', '37689', '30616', '35203', '33760', '12236', '30463', '30464', '34317', '31232', '34865', '35090', '33627', '30465', '30466', '13139', '31252', '31603', '30467', '31063', '31164', '31896', '33055', '34484', '31238', '31145', '13147', '34757', '27683', '13150', '29018', '29742', '13159', '13165', '29358', '30593', '30596', '27698', '29389', '30629', '30889', '30468', '33797', '30469', '32642', '33449', '34155', '34164', '29252', '30642', '29464', '34273', '31866', '13180', '32574', '30599', '34231', '32960', '33126', '34733', '31298', '36540', '32163', '27702', '13184', '32755', '13197', '29737', '29739', '13208', '13223', '34530', '30182', '30075', '13231', '13232', '29215', '30034', '13233', '31858', '29100', '32586', '34072', '29788', '31618', '35179', '30502', '13238', '29511', '34726', '27726', '27729', '13249', '32883', '34398', '13251', '13253', '34776', '32373', '31182', '13259', '29872', '35110', '13263', '13265', '30470', '32175', '30471', '36641', '28858', '31885', '30472', '13267', '53769', '34833', '27742', '33255', '29814', '29422', '30577', '33654', '13273', '32770', '29968', '13324', '35124', '29278', '30473', '31712', '29207', '31305', '13326', '30093', '30474', '42744', '33624', '32894', '33638', '31359', '31374', '35270', '13334', '32451', '34714', '29141', '31326', '32465', '13339', '32463', '29498', '27661', '32466', '33269', '33270', '29680', '33307', '31376', '34161', '13341', '29681', '31146', '33127', '31458', '31666', '34556', '13348', '13353', '29554', '34242', '33864', '30475', '30476', '33279', '30477', '31066', '32174', '13358', '13363', '34891', '33252', '34762', '1349', '30528', '30583', '34814', '33319', '32136', '32254', '30479', '13365', '31067', '13368', '4835', '30480', '30481', '32114', '30116', '30482', '30483', '35185', '32658', '30484', '30614', '31602', '27801', '33347', '36497', '13392', '30188', '34202', '31716', '30485', '29233', '29487', '13393', '13396', '31234', '33599', '31915', '30845', '33523', '29664', '32081', '34723', '30486', '33048', '35114', '13428', '33872', '31913', '36575', '29959', '29181', '13433', '13447', '13450', '36341', '34292', '13454', '31604', '32051', '27822', '31986', '34152', '33430', '29589', '29793', '13461', '34481', '32711', '32064', '12929', '34843', '13473', '31505', '27829', '29240', '30487', '13478', '13486', '31772', '36452', '33999', '34133', '32419', '13494', '32691', '31176', '33935', '37720', '33469', '33534', '36611', '13495', '34788', '33679', '32744', '13516', '13522', '35245', '36669', '33230', '32703', '34082', '32622', '31954', '31389', '33128', '31920', '13530', '31320', '59815', '13532', '27852', '13595', '13534', '32765', '30488', '32931', '29031', '29731', '36499', '13535', '27875', '27877', '13537', '13544', '33455', '13547', '31473', '13554', '13539', '34276', '13562', '27902', '13563', '29732', '5375', '27908', '36436', '31129', '33959', '30489', '13657', '13567', '27916', '27931', '27958', '27968', '13580', '13582', '13591', '28004', '32605', '31960', '29123', '30699', '13592', '13606', '13611', '34602', '34085', '13634', '13616', '28056', '4802', '13651', '13642', '31474', '35246', '13676', '35082', '36666', '30907', '13685', '34902', '13688', '13691', '13693', '28137', '13697', '12040', '13701', '31064', '36469', '32156', '32717', '31629', '31771', '13703', '31571', '13715', '30164', '34160', '5687', '32100', '33813', '31926', '13722', '34222', '31893', '32630', '32849', '34201', '5868', '13731', '13734', '13738', '13743', '33493', '34015', '6972', '29168', '33810', '13750', '13770', '31210', '13772', '32073', '33836', '13777', '34001', '13779', '31187', '31192', '31193', '31188', '31189', '31190', '28192', '30860', '35301', '13781', '13783', '33007', '34920', '34591', '33572', '31143', '36526', '35005', '36512', '31905', '30002', '31856', '31384', '29114', '31874', '13789', '13797', '13798', '13808', '13819', '31908', '13824', '35007', '13831', '29033', '34960', '29497', '32259', '31255', '29286', '34113', '13979', '13980', '13835', '13837', '36468', '34200', '1777', '13847', '29288', '37682', '28244', '36535', '29089', '13854', '31476', '36606', '30859', '13858', '35174', '34959', '34004', '30572', '13863', '30649', '33129', '13866', '13873', '30858', '34857', '30490', '31873', '34868', '13877', '4033', '30823', '28860', '13882', '7070', '35040', '29428', '28256', '13888', '13902', '29208', '13905', '29549', '13923', '13930', '13939', '13943', '4737', '29603', '32859', '29263', '13950', '30633', '1408', '13960', '13962', '36608', '29547', '13965', '35117', '31270', '13974', '34386', '13981', '13982', '34308', '13983', '32216', '33316', '58811', '13991', '14000', '33681', '14007', '32179', '31703', '35296', '59816', '32512', '34333', '32428', '35205', '36649', '34391', '14013', '14017', '35264', '14021', '33475', '33684', '31756', '14025', '33586', '14030', '29495', '33272', '33639', '37701', '14043', '35255', '34156', '28410', '31125', '29222', '14054', '29505', '29611', '31247', '14055', '33249', '28415', '28440', '33052', '29897', '33831', '31966', '59822', '33507', '14093', '14096', '30025', '6788', '32461', '32165', '14122', '14124', '29417', '28483', '14138', '31871', '33866', '39726', '1523', '30787', '33375', '14141', '32103', '31452', '14152', '31614', '14175', '14176', '33708', '34882', '33354', '33707', '14186', '32279', '35163', '32561', '33168', '32107', '28508', '33453', '28516', '29234', '30533', '28519', '31100', '34320', '14194', '31522', '28524', '14198', '29877', '29878', '29879', '29880', '29881', '29882', '29883', '34035', '17880', '57789', '32692', '31598', '37683', '36544', '33705', '34701', '30636', '6155', '6513', '29136', '28854', '3998', '35253', '32665', '33762', '33530', '31323', '33502', '34180', '34184', '33693', '36310', '28861', '29267', '33945', '30954', '34751', '33716', '49754', '13315', '14203', '14213', '14212', '33722', '14218', '14226', '14237', '37722', '14239', '14241', '32456', '33830', '14245', '14246', '31572', '31159', '33806', '36337', '14248', '34485', '31174', '12286', '28546', '34801', '34019', '1194', '36480', '14259', '33614', '34028', '14260', '14272', '31070', '31631', '34159', '35130', '32823', '30855', '55775', '14279', '30048', '14284', '30705', '28555', '14287', '34618', '31575', '33664', '31439', '32624', '31329', 'C0002965', 'C0040053', 'C0007102', 'C1168401', 'C0079773', 'C3495559', 'C0003872', 'C0376358', 'C0042133', 'C1458155', 'C0014170', 'C0023267', 'C0919267', 'C2937421', 'C0033578', 'DB00008', 'C0524910', 'C0524909', 'C0276535', 'C0023443', 'C0006118', 'C2239176', 'C0007134', 'C0009404', 'C1540912', 'C0024437', 'C0037286', 'C0037299', 'C0040028', 'C0948008', 'C0034065', 'C0343755', 'C0010072', 'C0042487', 'DB00014', 'C0006142', 'C0018802', 'C0242973', 'DB00017', 'C0029458', 'C0019829', 'C0023449', 'DB00022', 'C2316212', 'C0409818', 'DB00030', 'C0011854', 'C0011860', 'C0011849', 'C2748055', 'C0021655', 'C0019069', 'C0019080', 'DB00036', 'C0008533', 'C0015503', 'C0376545', 'DB00040', 'C0428977', 'C0036980', 'C0023467', 'C0024305', 'DB00046', 'DB00047', 'C0030848', 'C0010346', 'DB00052', 'C0151686', 'C0032897', 'C0878787', 'C0023479', 'DB00060', 'C0751967', 'C0948089', 'C0042514', 'C0042510', 'DB00068', 'C0023434', 'C0079731', 'C0024301', 'C0013238', 'C0017668', 'C0024141', 'C0221023', 'DB00100', 'C0020640', 'C0024586', 'C0001430', 'C0030297', 'C0032019', 'C0007095', 'C0151526', 'C0162316', 'C0042847', 'C0011882', 'C1394891', 'C0162429', 'C0917801', 'C0020473', 'DB00126', 'C0025637', 'C0268483', 'DB00128', 'DB00130', 'C0003862', 'C0003467', 'DB00131', 'DB00133', 'C0017612', 'C0020598', 'C0085682', 'C0042870', 'C0042875', 'C0042842', 'DB00139', 'C0041582', 'C0027424', 'C2607914', 'C0030920', 'DB00151', 'C1408258', 'C0349464', 'C0039841', 'DB00158', 'C0020557', 'C0011881', 'C0702166', 'C0022593', 'DB00163', 'C0002395', 'C1849508', 'C0936215', 'C0024121', 'C0020479', 'C0020443', 'C0020474', 'C0020476', 'C0028768', 'C0020538', 'C0242698', 'C0730345', 'C0035457', 'C0020179', 'C0037930', 'C0037763', 'C1263846', 'C0238111', 'C0014553', 'C0014550', 'C0270846', 'C0038220', 'C0030319', 'C0021603', 'C0004238', 'C0039240', 'C0334634', 'C0030567', 'C0242422', 'C0150055', 'C0235063', 'C0155862', 'C2242472', 'C0346647', 'C0026838', 'C0013390', 'C0149931', 'C0003578', 'C2973725', 'C0033975', 'C0013384', 'C0029882', 'C0042023', 'C0085606', 'C0020651', 'C0043515', 'C0017168', 'C0027662', 'C0023890', 'C1269683', 'C0011581', 'C0008677', 'C0876973', 'C0034186', 'C0024138', 'C0036508', 'C0011615', 'C0015456', 'C0473527', 'C0010068', 'C0032768', 'DB00233', 'C0011603', 'C0014356', 'C0015371', 'C0005586', 'C0020514', 'C0032000', 'C0494475', 'C0014549', 'C0234974', 'C0149958', 'C0014556', 'C0013182', 'C0035585', 'C0008149', 'C0032227', 'C0027022', 'C0032463', 'C0079744', 'C0009375', 'C0149871', 'C0035258', 'C0024115', 'C0034067', 'C0746102', 'C0010308', 'C0040136', 'C0920350', 'C0559106', 'C0151636', 'C0027796', 'C0013595', 'C0343065', 'C0007137', 'C0278996', 'C1336708', 'C0024299', 'C1261473', 'C0039590', 'DB00300', 'C0271578', 'C0005779', 'C0038525', 'C0023473', 'C0085669', 'C0917798', 'C0085417', 'C0007131', 'C0338908', 'C0038356', 'C0020546', 'C0013274', 'C0022876', 'C0003868', 'C0024117', 'C0005587', 'DB00335', 'C0018834', 'DB00340', 'C0268490', 'C0476089', 'C0003123', 'C0678222', 'C0023437', 'C0023481', 'C0010481', 'C0027661', 'C0751434', 'C0751435', 'C3544321', 'C0027497', 'C0042963', 'C1956346', 'C0005684', 'C0005695', 'C0018213', 'C0022116', 'DB00394', 'C0232940', 'C0002453', 'DB00399', 'C0005967', 'C0014121', 'C0025294', 'C0014836', 'DB00417', 'C0149704', 'C0220756', 'C1961835', 'C0162565', 'C0282488', 'C0040822', 'C0015944', 'C0022573', 'C1527304', 'C0016470', 'C0031190', 'C0035220', 'C0740394', 'C0281361', 'C1140680', 'C0887833', 'C0015397', 'C0006114', 'C0001627', 'C0037274', 'C0405580', 'C0023052', 'C0002875', 'C0030807', 'C0002880', 'C0001403', 'C1260899', 'C0262584', 'C0023448', 'C0677607', 'C0034734', 'DB00462', 'C0001957', 'C0149821', 'C0236964', 'C0032580', 'C0221013', 'C0221765', 'C0040517', 'C0014859', 'DB00517', 'C0948216', 'C0006413', 'C0024143', 'C0553580', 'C0024419', 'C0027708', 'DB00544', 'C0235974', 'C0699791', 'C0007117', 'C0018671', 'C0034885', 'DB00545', 'C0154143', 'C0035228', 'C0019618', 'C0022665', 'C0751865', 'C0013264', 'C1142132', 'C0268596', 'C0220710', 'C0268583', 'C0268579', 'C0342788', 'C0020545', 'C0004775', 'C0409959', 'DB00588', 'DB00591', 'DB00596', 'C0038160', 'C0036690', 'C0036421', 'DB00619', 'C0023472', 'C0005699', 'C0346421', 'C1960397', 'C0392784', 'C0238198', 'C0017563', 'C0001623', 'C0151721', 'C0342527', 'C0020480', 'C0020481', 'C0949116', 'C0038325', 'C0018133', 'C0014335', 'C0043202', 'C0342881', 'C0029927', 'C0206686', 'C0001618', 'C0024473', 'C0040479', 'C0025322', 'C0085215', 'C0001973', 'C0342543', 'C0013404', 'C0001883', 'C1134719', 'C0018418', 'C0917805', 'C0040046', 'C0085631', 'DB00686', 'C0085096', 'C0021308', 'C0023212', 'C0023487', 'C0023465', 'C0017605', 'DB00707', 'DB00712', 'C0847614', 'DB00725', 'C0700201', 'C0002736', 'C0520679', 'DB00746', 'C0282193', 'C0015469', 'C0022595', 'C1704436', 'C0149925', 'C0027627', 'C0039685', 'C0018798', 'C0023470', 'C0042138', 'DB00784', 'C0276226', 'DB00796', 'C0007820', 'C0042373', 'DB00798', 'C0030578', 'C0021775', 'C1306889', 'C0007786', 'C0011875', 'C0085649', 'C0271650', 'C0401151', 'C0206693', 'C0016057', 'C0334579', 'C0178416', 'C1527336', 'C0020625', 'C0546817', 'C0021141', 'DB00873', 'C0003128', 'DB00883', 'C0162820', 'DB00903', 'C0013386', 'C0006105', 'C2931618', 'C0005694', 'C0013415', 'C0020757', 'C0542346', 'DB00939', 'DB00942', 'C0035222', 'DB00972', 'C0020445', 'DB00977', 'DB00985', 'DB00986', 'C0019151', 'DB01003', 'C0002895', 'DB01013', 'DB01020', 'C0019087', 'C0042880', 'C0004943', 'DB01049', 'C0233315', 'DB01057', 'C0271093', 'C0004245', 'C0456909', 'C0877792', 'C0595948', 'C0033806', 'DB01077', 'C0149745', 'C0010054', 'C0151744', 'C0270458', 'C0028734', 'C0151714', 'C0151940', 'C0020544', 'C0234533', 'C0020433', 'C0009952', 'C0026998', 'C0235480', 'C2936781', 'DB01188', 'C0020523', 'C4083212', 'C0024591', 'C0007785', 'C0220994', 'C0021051', 'C2718128', 'C1527311', 'C0030569', 'DB01243', 'C0024790', 'C0019054', 'C0023480', 'C0002894', 'C0002893', 'DB01268', 'C0242383', 'C0027686', 'C0026705', 'C0271568', 'C1837475', 'C0026709', 'C1961099', 'DB01306', 'DB01307', 'DB01309', 'DB01348', 'DB01352', 'DB01380', 'DB01382', 'C0745103', 'C1704417', 'C0031069', 'DB01397', 'DB01399', 'DB01420', 'C0007193', 'C0428974', 'DB01440', 'C0751362', 'C0023892', 'C0856727', 'C0205768', 'DB01591', 'DB01592', 'DB01600', 'C0005283', 'C0162566', 'DB01615', 'DB01625', 'DB02659', 'C0005424', 'C0238052', 'C0282528', 'DB03619', 'C0221260', 'C0001418', 'DB04846', 'C0013720', 'C0013405', 'DB04920', 'DB04931', 'DB04942', 'C0079774', 'DB05265', 'C0019243', 'C0398650', 'DB05630', 'C0036323', 'C1384600', 'C0342731', 'C1275126', 'C0268390', 'C0085413', 'C0162627', 'C0206245', 'C0017531', 'C0524620', 'DB06717', 'DB06777', 'C0311375', 'C0751753', 'C0175683', 'C0019202', 'DB07615', 'DB08804', 'C1565489', 'C0272375', 'DB08806', 'C0311277', 'DB08871', 'DB08872', 'C0238462', 'DB08897', 'DB08906', 'DB08908', 'C1800706', 'DB08936', 'DB08984', 'C0003469', 'DB09026', 'C0221032', 'C0220989', 'C0206682', 'C0238463', 'DB09107', 'DB09109', 'C0751122', 'DB09146', 'C0085681', 'DB09198', 'DB09221', 'DB09223', 'C0398775', 'DB09262', 'DB09279', 'DB09310', 'DB09332', 'C0022354', 'DB09481', 'DB09555', 'DB09564', 'DB09568', 'DB11582', 'C0007138', 'DB09301', 'DB09131', 'DB09067', 'DB13954', 'DB00823', 'DB00071', 'DB00688', 'DB00984', 'DB13943', 'C0342384', 'DB09270', 'C0023869', 'DB00173', 'DB00546', 'DB01431', 'C0037188', 'DB01295', 'DB08807', 'DB08800', 'C0687150', 'C1561643', 'DB08810', 'DB09273', 'C0000809', 'C0156404', 'DB08983', 'DB01094', 'DB14061', 'DB06706', 'DB08802', 'C0085129', 'DB00805', 'DB00600', 'DB00157', 'DB09371', 'C0018273', 'C0035229', 'C2316810', 'DB01366', 'DB00392', 'DB06714', 'DB00147', 'C1861172', 'DB06739', 'C0151942', 'DB00428', 'C0026650', 'DB04894', 'DB06775', 'C0268543', 'DB13873', 'DB01024', 'DB04552', 'DB11598', 'DB00042', 'DB00097', 'DB00034', 'DB00044', 'DB06688', 'DB00513', 'DB00142', 'DB00123', 'DB00161', 'C0031485', 'DB00125', 'DB00117', 'DB00129', 'DB00174', 'DB00155', 'DB00167', 'DB00120', 'DB00141', 'DB00075', 'C0030446', 'DB01404', 'DB00070', 'C0042909', 'DB01401', 'DB12865', 'DB00154', 'DB11081', 'DB08835', 'DB11235', 'DB09091', 'DB06754', 'DB06689', 'DB11166', 'DB11748', 'C0024031', 'DB09015', 'DB09006', 'DB09119', 'DB02530', 'DB00893', 'DB01378', 'DB13996', 'DB13933', 'DB09108', 'DB05389', 'DB11572', 'DB05777', 'DB04519', 'DB13167', 'DB12417', 'DB09204', 'DB08961', 'DB09018', 'DB09010', 'DB09271', 'DB00720', 'DB09000', 'DB09123', 'DB08995', 'DB12947', 'DB09215', 'DB08986', 'DB09217', 'DB04106', 'DB12836', 'DB04866', 'DB08955', 'DB12233', 'DB04924', 'DB00463', 'DB11792', 'DB11324', 'DB13500', 'DB12017', 'DB11071', 'DB12278', 'DB04216', 'DB13036', 'DB11656', 'DB11753', 'DB12863', 'C0242488', 'C0424489', 'DB08836', 'DB11950', 'DB11824', 'DB01685', 'DB12082']\n"
     ]
    }
   ],
   "source": [
    "def load_ddb():            \n",
    "    with open(f'{repo_root}/data/ddb/ddb_names.json') as f:\n",
    "        all_names = json.load(f)\n",
    "        # print(all_names)\n",
    "    with open(f'{repo_root}/data/ddb/ddb_relas.json') as f:\n",
    "        all_relas = json.load(f)\n",
    "    relas_lst = []\n",
    "    for key, val in all_relas.items():\n",
    "        relas_lst.append(val)\n",
    "        \n",
    "    ddb_ptr_to_preferred_name = {}\n",
    "    ddb_ptr_to_name = defaultdict(list)\n",
    "    ddb_name_to_ptr = {}\n",
    "    for key, val in all_names.items():\n",
    "        item_name = key\n",
    "        item_ptr = val[0]\n",
    "        item_preferred = val[1]\n",
    "        if item_preferred == \"1\":\n",
    "            ddb_ptr_to_preferred_name[item_ptr] = item_name\n",
    "        ddb_name_to_ptr[item_name] = item_ptr\n",
    "        ddb_ptr_to_name[item_ptr].append(item_name)\n",
    "        \n",
    "    return (relas_lst, ddb_ptr_to_name, ddb_name_to_ptr, ddb_ptr_to_preferred_name)\n",
    "\n",
    "\n",
    "relas_lst, ddb_ptr_to_name, ddb_name_to_ptr, ddb_ptr_to_preferred_name = load_ddb()\n",
    "\n",
    "\n",
    "ddb_ptr_lst, ddb_names_lst = [], []\n",
    "for key, val in ddb_ptr_to_preferred_name.items():\n",
    "    ddb_ptr_lst.append(key)\n",
    "    ddb_names_lst.append(val)\n",
    "\n",
    "with open(f\"{repo_root}/data/ddb/vocab.txt\", \"w\") as fout:\n",
    "    for ddb_name in ddb_names_lst:\n",
    "        print (ddb_name, file=fout)\n",
    "\n",
    "with open(f\"{repo_root}/data/ddb/ptrs.txt\", \"w\") as fout:\n",
    "    for ddb_ptr in ddb_ptr_lst:\n",
    "        print (ddb_ptr, file=fout)\n",
    "\n",
    "id2concept = ddb_ptr_lst\n",
    "print(id2concept)"
   ]
  },
  {
   "cell_type": "code",
   "execution_count": null,
   "metadata": {
    "colab": {
     "base_uri": "https://localhost:8080/"
    },
    "id": "KjMSuqtHmD21",
    "outputId": "e427c8f0-075f-49f5-e972-303ddce169bf"
   },
   "outputs": [
    {
     "data": {
      "text/plain": [
       "(9958, 9958, 17358)"
      ]
     },
     "execution_count": 21,
     "metadata": {},
     "output_type": "execute_result"
    }
   ],
   "source": [
    "len(ddb_ptr_to_name), len(ddb_ptr_to_preferred_name), len(ddb_name_to_ptr)"
   ]
  },
  {
   "cell_type": "code",
   "execution_count": null,
   "metadata": {
    "colab": {
     "base_uri": "https://localhost:8080/"
    },
    "id": "B4WBKk7QmD22",
    "outputId": "308f8746-5965-40cb-83b2-2a6b6da7dcbb"
   },
   "outputs": [
    {
     "data": {
      "text/plain": [
       "('325', '31770')"
      ]
     },
     "execution_count": 22,
     "metadata": {},
     "output_type": "execute_result"
    }
   ],
   "source": [
    "ddb_name_to_ptr['Ethanol'], ddb_name_to_ptr['Serine']"
   ]
  },
  {
   "cell_type": "code",
   "execution_count": null,
   "metadata": {
    "id": "syDRKoC8mD23"
   },
   "outputs": [],
   "source": [
    "merged_relations = [\n",
    "    'belongs_to_the_category_of',\n",
    "    'is_a_category',\n",
    "    'may_cause',\n",
    "    'is_a_subtype_of',\n",
    "    'is_a_risk_factor_of',\n",
    "    'is_associated_with',\n",
    "    'may_contraindicate',\n",
    "    'interacts_with',\n",
    "    'belongs_to_the_drug_family_of',\n",
    "    'belongs_to_drug_super-family',\n",
    "    'is_a_vector_for',\n",
    "    'may_be_allelic_with',\n",
    "    'see_also',\n",
    "    'is_an_ingradient_of',\n",
    "    'may_treat'\n",
    "]\n",
    "\n",
    "relas_dict = {\"0\": 0, \"1\": 1, \"2\": 2, \"3\": 3, \"4\": 4, \"6\": 5, \"10\": 6, \"12\": 7, \"16\": 8, \"17\": 9, \"18\": 10,\n",
    "             \"20\": 11, \"26\": 12, \"30\": 13, \"233\": 14}"
   ]
  },
  {
   "cell_type": "code",
   "execution_count": null,
   "metadata": {
    "colab": {
     "base_uri": "https://localhost:8080/"
    },
    "id": "RiD1AIySwoDb",
    "outputId": "5d7c335a-880e-4389-ae01-5aafa997283a"
   },
   "outputs": [
    {
     "name": "stdout",
     "output_type": "stream",
     "text": [
      "Looking in indexes: https://pypi.org/simple, https://us-python.pkg.dev/colab-wheels/public/simple/\n",
      "Requirement already satisfied: networkx in /usr/local/lib/python3.8/dist-packages (3.0)\n",
      "\u001b[33mWARNING: Running pip as the 'root' user can result in broken permissions and conflicting behaviour with the system package manager. It is recommended to use a virtual environment instead: https://pip.pypa.io/warnings/venv\u001b[0m\u001b[33m\n",
      "\u001b[0m"
     ]
    }
   ],
   "source": [
    "!pip install networkx --upgrade\n",
    "\n"
   ]
  },
  {
   "cell_type": "code",
   "execution_count": 4,
   "metadata": {
    "colab": {
     "base_uri": "https://localhost:8080/",
     "height": 322
    },
    "id": "8BQ82XVemD24",
    "outputId": "70ff71d2-638f-4f35-931f-8a6c24e01160"
   },
   "outputs": [],
   "source": [
    "import networkx as nx\n",
    "\n",
    "def construct_graph():\n",
    "    concept2id = {w: i for i, w in enumerate(id2concept)}\n",
    "    id2relation = merged_relations\n",
    "    relation2id = {r: i for i, r in enumerate(id2relation)}\n",
    "    graph = nx.MultiDiGraph()\n",
    "    attrs = set()\n",
    "    for relation in relas_lst:\n",
    "        subj = concept2id[relation[0]]\n",
    "        obj = concept2id[relation[1]]\n",
    "        rel = relas_dict[relation[2]]\n",
    "        weight = 1.\n",
    "        graph.add_edge(subj, obj, rel=rel, weight=weight)\n",
    "        attrs.add((subj, obj, rel))\n",
    "        graph.add_edge(obj, subj, rel=rel + len(relation2id), weight=weight)\n",
    "        attrs.add((obj, subj, rel + len(relation2id)))\n",
    "    output_path = f\"{repo_root}/data/ddb/ddb.graph\"\n",
    "    nx.write_gpickle(graph, output_path)\n",
    "    return concept2id, id2relation, relation2id, graph\n",
    "\n",
    "concept2id, id2relation, relation2id, KG = construct_graph()"
   ]
  }
 ],
 "metadata": {
  "accelerator": "TPU",
  "colab": {
   "provenance": []
  },
  "gpuClass": "standard",
  "kernelspec": {
   "display_name": "Python 3",
   "language": "python",
   "name": "python3"
  },
  "language_info": {
   "codemirror_mode": {
    "name": "ipython",
    "version": 3
   },
   "file_extension": ".py",
   "mimetype": "text/x-python",
   "name": "python",
   "nbconvert_exporter": "python",
   "pygments_lexer": "ipython3",
   "version": "3.8.5"
  }
 },
 "nbformat": 4,
 "nbformat_minor": 1
}
